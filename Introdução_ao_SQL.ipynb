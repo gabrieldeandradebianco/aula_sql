{
  "nbformat": 4,
  "nbformat_minor": 0,
  "metadata": {
    "colab": {
      "name": "Introdução ao SQL.ipynb",
      "provenance": [],
      "toc_visible": true
    },
    "kernelspec": {
      "name": "python3",
      "display_name": "Python 3"
    },
    "language_info": {
      "name": "python"
    }
  },
  "cells": [
    {
      "cell_type": "markdown",
      "source": [
        "https://github.com/gabrieldeandradebianco/aula_sql/\n",
        "https://colab.research.google.com/drive/18tZyG3np5GiW_z5CEyzt1MaISdcFvCK4?usp=sharing"
      ],
      "metadata": {
        "id": "nei4PlbpadJk"
      }
    },
    {
      "cell_type": "markdown",
      "source": [
        "# **Introdução ao SQL**\n",
        "\n",
        "* Structured Query Language\n",
        "* É a linguagem usada para acessar e manipular bancos de dados (MySQL, SQL Server, MS Access, Postgre)\n"
      ],
      "metadata": {
        "id": "qlDT2py08BND"
      }
    },
    {
      "cell_type": "markdown",
      "source": [
        "# Criando e inserindo dados em uma tabela"
      ],
      "metadata": {
        "id": "BaIWIXPtK92K"
      }
    },
    {
      "cell_type": "markdown",
      "source": [
        "**Criando uma nova tabela**\n",
        "\n",
        "O comando \"create table\" cria uma tabela nova no banco de dados com as colunas especificadas.\n",
        "\n",
        "**`create table nome_da_tabela (coluna1 tipo, coluna2 tipo ...);`**\n",
        "\n",
        "*Obs.: Para garantirmos que a tabela será criada sem nenhum valor, vamos primeiro executar o comando \"drop table\".*"
      ],
      "metadata": {
        "id": "xZHZ0axyAgLg"
      }
    },
    {
      "cell_type": "code",
      "execution_count": 1,
      "metadata": {
        "id": "0sL_TTyZ7gal",
        "colab": {
          "base_uri": "https://localhost:8080/"
        },
        "outputId": "857abe75-ae3c-411c-ac24-1cf67a2cc944"
      },
      "outputs": [
        {
          "output_type": "stream",
          "name": "stdout",
          "text": [
            "Opened database successfully\n",
            "Table created successfully\n"
          ]
        }
      ],
      "source": [
        "import sqlite3\n",
        "\n",
        "# conecta no banco de dados (caso ele não exista, vai ser criado um novo banco com esse nome)\n",
        "conn = sqlite3.connect('teste.db')\n",
        "print(\"Opened database successfully\");\n",
        "\n",
        "# comando SQL para deletar uma tabela, caso ela já exista\n",
        "sql = \"DROP TABLE IF EXISTS pessoas\"\n",
        "# executa o comando\n",
        "conn.execute(sql)\n",
        "\n",
        "# comando SQL para criar uma nova tabela, caso ela não exista\n",
        "sql = \"CREATE TABLE IF NOT EXISTS pessoas(nome text, nacionalidade text, idade integer)\" \n",
        "# executa o comando\n",
        "conn.execute(sql)\n",
        "\n",
        "# salva as mudanças (sem esse comando as mudanças serão desfeitas quando fecharmos a conexão)\n",
        "conn.commit()\n",
        "print(\"Table created successfully\");\n",
        "\n",
        "# se não quisermos fazer mais nada, fechamos a conexão\n",
        "conn.close()"
      ]
    },
    {
      "cell_type": "code",
      "source": [
        "# vamos criar mais uma tabela\n",
        "conn = sqlite3.connect('teste.db')\n",
        "sql = \"DROP TABLE IF EXISTS pets\"\n",
        "conn.execute(sql)\n",
        "\n",
        "sql = \"CREATE TABLE IF NOT EXISTS pets(nome text, dono text, especie text, sexo text)\" \n",
        "# executa o comando\n",
        "conn.execute(sql)\n",
        "\n",
        "# salva as mudanças (sem esse comando as mudanças serão desfeitas quando fecharmos a conexão)\n",
        "conn.commit()\n",
        "print(\"Table created successfully\");\n",
        "\n",
        "# se não quisermos fazer mais nada, fechamos a conexão\n",
        "conn.close()"
      ],
      "metadata": {
        "colab": {
          "base_uri": "https://localhost:8080/"
        },
        "id": "Er_myNgolmcU",
        "outputId": "a50acf3b-3d8b-4aef-c94d-f2191ca08cc3"
      },
      "execution_count": 2,
      "outputs": [
        {
          "output_type": "stream",
          "name": "stdout",
          "text": [
            "Table created successfully\n"
          ]
        }
      ]
    },
    {
      "cell_type": "markdown",
      "source": [
        "**Inserindo novos valores**\n",
        "\n",
        "Use \"INSERT INTO\" para adicionar novas linhas em uma tabela.\n",
        "\n",
        "**`insert into nome_da_tabela (valor1, valor2, valor3, ...);`**\n",
        "\n",
        "Podemos inserir múltiplos valores de uma vez (Bulk Insert) da seguinte forma:\n",
        "\n",
        "**`insert into nome_da_tabela (lista_de_valores_1), (lista_de_valores_2), ...;`**"
      ],
      "metadata": {
        "id": "VKr6oNSjvQRh"
      }
    },
    {
      "cell_type": "code",
      "source": [
        "# reabre a conexão\n",
        "conn = sqlite3.connect('teste.db')\n",
        "\n",
        "# inserindo valores\n",
        "conn.execute(\"INSERT INTO pessoas VALUES('Emilia', 'Espanha', 53)\")\n",
        "conn.execute(\"INSERT INTO pessoas VALUES('Rodrigo', 'Brasil', 37)\")\n",
        "conn.execute(\"INSERT INTO pessoas VALUES('Peter', 'Inglaterra', 35)\")\n",
        "conn.execute(\"INSERT INTO pessoas VALUES('Marta', 'Brasil', 32)\")\n",
        "conn.execute(\"INSERT INTO pessoas VALUES('Marta', 'Brasil', 35)\")\n",
        "conn.execute(\"INSERT INTO pessoas VALUES('Manoel', 'Portugal', 42)\")\n",
        "\n",
        "# podemos inserir vários valores em um único comando também, da seguinte maneira\n",
        "sql = '''INSERT INTO pets VALUES\n",
        "        ('Scooby', 'Emilia', 'Cachorro', 'Macho'),\n",
        "        ('Dorothy', 'Emilia', 'Cachorro', 'Fêmea'),\n",
        "        ('Petite', 'Rodrigo', 'Gato', 'Fêmea'),\n",
        "        ('Niko', 'Rodrigo', 'Gato', 'Macho'),\n",
        "        ('Cissa', 'Peter', 'Gato', 'Fêmea'),\n",
        "        ('Paco', 'Peter', 'Cachorro', 'Macho'),\n",
        "        ('Mingau', 'Manoel', 'Gato', 'Macho')'''\n",
        "conn.execute(sql)\n",
        "conn.commit()"
      ],
      "metadata": {
        "id": "Uy251a7nssFm"
      },
      "execution_count": 3,
      "outputs": []
    },
    {
      "cell_type": "markdown",
      "source": [
        "**Modificando / atualizando dados**\n",
        "\n",
        "Caso precisemos de modificar dados podemos usar o comando UPDATE.\n",
        "\n",
        "`UPDATE nome_tabela SET coluna = novo_valor WHERE condição`"
      ],
      "metadata": {
        "id": "5-QGHsT4dph_"
      }
    },
    {
      "cell_type": "code",
      "source": [
        "# atualizando/modificando valores\n",
        "conn.execute(\"UPDATE pessoas SET idade = 56 WHERE nome = 'Emilia'\")\n",
        "conn.commit()"
      ],
      "metadata": {
        "id": "oXxDk5k9eFu2"
      },
      "execution_count": 4,
      "outputs": []
    },
    {
      "cell_type": "markdown",
      "source": [
        "**Deletando dados**\n",
        "\n",
        "Para deletar dados, usamos sintaxe parecida.\n",
        "\n",
        "`DELETE FROM nome_tabela WHERE condição`"
      ],
      "metadata": {
        "id": "O_xrcYuzfwtA"
      }
    },
    {
      "cell_type": "code",
      "source": [
        "# deletando\n",
        "conn.execute(\"DELETE FROM pessoas WHERE nome = 'Manoel'\")\n",
        "conn.commit()"
      ],
      "metadata": {
        "id": "bbUkmrq3fxMn"
      },
      "execution_count": 5,
      "outputs": []
    },
    {
      "cell_type": "markdown",
      "source": [
        "# Select\n",
        "\n",
        "O comando SELECT permite realizarmos pesquisas em uma ou mais tabelas."
      ],
      "metadata": {
        "id": "FWQOD7xPKhFb"
      }
    },
    {
      "cell_type": "markdown",
      "source": [
        "**Selecionando todos os dados da tabela**\n",
        "\n",
        "Usando \"SELECT * FROM\" podemos selecionar todas os valores em uma tabela.\n",
        "\n",
        "**`select * from nome_da_tabela`**"
      ],
      "metadata": {
        "id": "ZQQHCr_DwWko"
      }
    },
    {
      "cell_type": "code",
      "source": [
        "sql = \"SELECT * from pessoas\"\n",
        "\n",
        "# o comando execute retorna um objeto \"cursor\", que contém as linhas do resultados\n",
        "cursor = conn.execute(sql)\n",
        "for row in cursor:\n",
        "  print(row)"
      ],
      "metadata": {
        "id": "KwJ713LTC4NX",
        "colab": {
          "base_uri": "https://localhost:8080/"
        },
        "outputId": "6d73d996-8d65-491a-a827-b809c55ca782"
      },
      "execution_count": 6,
      "outputs": [
        {
          "output_type": "stream",
          "name": "stdout",
          "text": [
            "('Emilia', 'Espanha', 56)\n",
            "('Rodrigo', 'Brasil', 37)\n",
            "('Peter', 'Inglaterra', 35)\n",
            "('Marta', 'Brasil', 32)\n",
            "('Marta', 'Brasil', 35)\n"
          ]
        }
      ]
    },
    {
      "cell_type": "markdown",
      "source": [
        "**Selecionando colunas específicas de uma tabela**\n",
        "\n",
        "Podemos especificar somente as colunas desejadas no nosso \"SELECT\":\n",
        "\n",
        "**`select coluna, outra_coluna, ..., FROM nome_da_tabela`**"
      ],
      "metadata": {
        "id": "ZkEf1la0LSIJ"
      }
    },
    {
      "cell_type": "code",
      "source": [
        "sql = \"SELECT idade, nome FROM pessoas\"\n",
        "\n",
        "cursor = conn.execute(sql)\n",
        "for row in cursor:\n",
        "  print(row)"
      ],
      "metadata": {
        "id": "5OEU5wpcLSlU",
        "colab": {
          "base_uri": "https://localhost:8080/"
        },
        "outputId": "cc496b5a-deb7-415d-f5bb-33e3c77cfb4c"
      },
      "execution_count": 7,
      "outputs": [
        {
          "output_type": "stream",
          "name": "stdout",
          "text": [
            "(56, 'Emilia')\n",
            "(37, 'Rodrigo')\n",
            "(35, 'Peter')\n",
            "(32, 'Marta')\n",
            "(35, 'Marta')\n"
          ]
        }
      ]
    },
    {
      "cell_type": "markdown",
      "source": [
        "**Selecionando valores distintos de uma tabela**\n",
        "\n",
        "Usando a palavra chave DISTINCT, os valores duplicados não são selecionados.\n",
        "\n",
        "**`select DISTINCT coluna, outra_coluna, ..., FROM nome_da_tabela`**"
      ],
      "metadata": {
        "id": "-fnMZpdfRw0A"
      }
    },
    {
      "cell_type": "code",
      "source": [
        "sql = \"SELECT DISTINCT * FROM pessoas\"\n",
        "\n",
        "cursor = conn.execute(sql)\n",
        "for row in cursor:\n",
        "  print(row)"
      ],
      "metadata": {
        "id": "bd862Fa0j8PB",
        "colab": {
          "base_uri": "https://localhost:8080/"
        },
        "outputId": "ddaa1f61-5616-42bc-ac5c-6eca0f4d5ad0"
      },
      "execution_count": 8,
      "outputs": [
        {
          "output_type": "stream",
          "name": "stdout",
          "text": [
            "('Emilia', 'Espanha', 56)\n",
            "('Rodrigo', 'Brasil', 37)\n",
            "('Peter', 'Inglaterra', 35)\n",
            "('Marta', 'Brasil', 32)\n",
            "('Marta', 'Brasil', 35)\n"
          ]
        }
      ]
    },
    {
      "cell_type": "code",
      "source": [
        "sql = \"SELECT DISTINCT nacionalidade FROM pessoas\"\n",
        "\n",
        "cursor = conn.execute(sql)\n",
        "for row in cursor:\n",
        "  print(row)"
      ],
      "metadata": {
        "id": "TPfgriMdjmzp",
        "colab": {
          "base_uri": "https://localhost:8080/"
        },
        "outputId": "c56a84d0-881d-43fd-bfb7-45ac60019eba"
      },
      "execution_count": 9,
      "outputs": [
        {
          "output_type": "stream",
          "name": "stdout",
          "text": [
            "('Espanha',)\n",
            "('Brasil',)\n",
            "('Inglaterra',)\n"
          ]
        }
      ]
    },
    {
      "cell_type": "code",
      "source": [
        "sql = \"SELECT DISTINCT nome, nacionalidade FROM pessoas\"\n",
        "\n",
        "cursor = conn.execute(sql)\n",
        "for row in cursor:\n",
        "  print(row)"
      ],
      "metadata": {
        "id": "DDx3G6sCjyTO",
        "colab": {
          "base_uri": "https://localhost:8080/"
        },
        "outputId": "e0c70ec1-b9f9-46a7-cf76-c405a0082d97"
      },
      "execution_count": 10,
      "outputs": [
        {
          "output_type": "stream",
          "name": "stdout",
          "text": [
            "('Emilia', 'Espanha')\n",
            "('Rodrigo', 'Brasil')\n",
            "('Peter', 'Inglaterra')\n",
            "('Marta', 'Brasil')\n"
          ]
        }
      ]
    },
    {
      "cell_type": "markdown",
      "source": [
        "**Obtendo o número de colunas de uma pesquisa**\n",
        "\n",
        "Para obter o número de colunas, use COUNT (...).\n",
        "\n",
        "**`select COUNT(*) FROM nome_da_tabela`**"
      ],
      "metadata": {
        "id": "7YN8O4OxlVPK"
      }
    },
    {
      "cell_type": "code",
      "source": [
        "sql = \"SELECT COUNT (*) FROM pessoas\"\n",
        "\n",
        "cursor = conn.execute(sql)\n",
        "for row in cursor:\n",
        "  print(row)"
      ],
      "metadata": {
        "id": "r6hLE3L_lRIn",
        "colab": {
          "base_uri": "https://localhost:8080/"
        },
        "outputId": "d9239cae-a60e-4c4a-87e4-14bb9597b66f"
      },
      "execution_count": 11,
      "outputs": [
        {
          "output_type": "stream",
          "name": "stdout",
          "text": [
            "(5,)\n"
          ]
        }
      ]
    },
    {
      "cell_type": "code",
      "source": [
        "sql = \"SELECT COUNT (DISTINCT nacionalidade) FROM pessoas\"\n",
        "\n",
        "cursor = conn.execute(sql)\n",
        "for row in cursor:\n",
        "  print(row)"
      ],
      "metadata": {
        "id": "xS2WtUpkmLzp",
        "colab": {
          "base_uri": "https://localhost:8080/"
        },
        "outputId": "5d004bd2-96b3-4f12-9741-4af344c0f7bb"
      },
      "execution_count": 12,
      "outputs": [
        {
          "output_type": "stream",
          "name": "stdout",
          "text": [
            "(3,)\n"
          ]
        }
      ]
    },
    {
      "cell_type": "markdown",
      "source": [
        "**Como buscar dados específicos (pesquisa condicional)**\n",
        "\n",
        "A palavra chave WHERE pode ser usada para especificar quais resultados queremos.\n",
        "\n",
        "**`select * FROM nome_da_tabela WHERE condição`**\n",
        "\n",
        "Operadores condicionais:\n",
        "\n",
        "`=`    igual\n",
        "\n",
        "`<`\t\t menor que\n",
        "\n",
        "`>`    maior que \n",
        "\n",
        "`<>`   diferente\n",
        "\n",
        "`IN (a, b, c)` Valor está incluso na lista\n",
        "\n",
        "`BETWEEN x AND y`\tValor entre x e y\n",
        "\n",
        "`LIKE \"%\"`\tTexto corresponde ao padrão especificado"
      ],
      "metadata": {
        "id": "PvGFbbdvmvWB"
      }
    },
    {
      "cell_type": "code",
      "source": [
        "sql = \"SELECT * FROM pessoas WHERE idade > 35\"\n",
        "\n",
        "cursor = conn.execute(sql)\n",
        "for row in cursor:\n",
        "  print(row)"
      ],
      "metadata": {
        "id": "X1dAiGp4nMGu",
        "colab": {
          "base_uri": "https://localhost:8080/"
        },
        "outputId": "ea26a4e9-2cff-48ab-cd45-31cf76a431b5"
      },
      "execution_count": 13,
      "outputs": [
        {
          "output_type": "stream",
          "name": "stdout",
          "text": [
            "('Emilia', 'Espanha', 56)\n",
            "('Rodrigo', 'Brasil', 37)\n"
          ]
        }
      ]
    },
    {
      "cell_type": "code",
      "source": [
        "sql = \"SELECT * FROM pessoas WHERE idade <> 35 AND nacionalidade = 'Brasil'\"\n",
        "\n",
        "cursor = conn.execute(sql)\n",
        "for row in cursor:\n",
        "  print(row)"
      ],
      "metadata": {
        "id": "dz-BPwSCoj1y",
        "colab": {
          "base_uri": "https://localhost:8080/"
        },
        "outputId": "e2e7e79b-846e-4bca-8a39-089b227776f8"
      },
      "execution_count": 14,
      "outputs": [
        {
          "output_type": "stream",
          "name": "stdout",
          "text": [
            "('Rodrigo', 'Brasil', 37)\n",
            "('Marta', 'Brasil', 32)\n"
          ]
        }
      ]
    },
    {
      "cell_type": "code",
      "source": [
        "sql = \"SELECT * FROM pessoas WHERE idade == 35 OR nacionalidade = 'Espanha' \"\n",
        "\n",
        "cursor = conn.execute(sql)\n",
        "for row in cursor:\n",
        "  print(row)"
      ],
      "metadata": {
        "id": "SYeY07WmozNp",
        "colab": {
          "base_uri": "https://localhost:8080/"
        },
        "outputId": "84a98322-cb57-49af-998c-301c2510adf9"
      },
      "execution_count": 15,
      "outputs": [
        {
          "output_type": "stream",
          "name": "stdout",
          "text": [
            "('Emilia', 'Espanha', 56)\n",
            "('Peter', 'Inglaterra', 35)\n",
            "('Marta', 'Brasil', 35)\n"
          ]
        }
      ]
    },
    {
      "cell_type": "code",
      "source": [
        "# pesquisa por todos com nacionalidade na lista\n",
        "sql = \"SELECT * FROM pessoas WHERE nacionalidade IN ('Espanha', 'França', 'Japão')\"\n",
        "\n",
        "cursor = conn.execute(sql)\n",
        "for row in cursor:\n",
        "  print(row)"
      ],
      "metadata": {
        "colab": {
          "base_uri": "https://localhost:8080/"
        },
        "id": "rO6hrZZyJ20O",
        "outputId": "5df8fc7d-cf8a-464e-959a-627846294902"
      },
      "execution_count": 33,
      "outputs": [
        {
          "output_type": "stream",
          "name": "stdout",
          "text": [
            "('Emilia', 'Espanha', 56)\n"
          ]
        }
      ]
    },
    {
      "cell_type": "code",
      "source": [
        "# pesquisa por todos com idade entre 32 e 35 anos\n",
        "sql = \"SELECT * FROM pessoas WHERE idade BETWEEN 32 AND 35\"\n",
        "\n",
        "cursor = conn.execute(sql)\n",
        "for row in cursor:\n",
        "  print(row)"
      ],
      "metadata": {
        "colab": {
          "base_uri": "https://localhost:8080/"
        },
        "id": "ay9uIGpPKsMx",
        "outputId": "989389f8-1702-43b8-8b08-44ddaf835f49"
      },
      "execution_count": 37,
      "outputs": [
        {
          "output_type": "stream",
          "name": "stdout",
          "text": [
            "('Peter', 'Inglaterra', 35)\n",
            "('Marta', 'Brasil', 32)\n",
            "('Marta', 'Brasil', 35)\n"
          ]
        }
      ]
    },
    {
      "cell_type": "markdown",
      "source": [
        "**Pesquisa usando wildcards (coringas)**\n",
        "\n",
        "A palavra chave LIKE pode ser usada dentro da condição de uma expressão WHERE para pesquisa de valores que correspondam a um padrão, usando alguns wildcards.\n",
        "\n",
        "O sinal de porcento (%) corresponde a zero, um ou múltiplos caracteres quaisquer.\n",
        "\n",
        "O sinal de sublinhado/underline (_) representa um único caractere qualquer."
      ],
      "metadata": {
        "id": "IQFfQdhcqDkr"
      }
    },
    {
      "cell_type": "code",
      "source": [
        "# pesquisa por todas as nacionalidades que terminem em 'a'\n",
        "sql = \"SELECT * FROM pessoas WHERE nacionalidade LIKE '%a' \"\n",
        "\n",
        "cursor = conn.execute(sql)\n",
        "for row in cursor:\n",
        "  print(row)"
      ],
      "metadata": {
        "id": "g43OASnKphR7",
        "colab": {
          "base_uri": "https://localhost:8080/"
        },
        "outputId": "5a20b5d8-7d5a-4689-830d-cb492c4194a3"
      },
      "execution_count": 16,
      "outputs": [
        {
          "output_type": "stream",
          "name": "stdout",
          "text": [
            "('Emilia', 'Espanha', 56)\n",
            "('Peter', 'Inglaterra', 35)\n"
          ]
        }
      ]
    },
    {
      "cell_type": "code",
      "source": [
        "# pesquisa por todos com nomes que contenham 't'\n",
        "sql = \"SELECT * FROM pessoas WHERE nome LIKE '%t%'\"\n",
        "\n",
        "cursor = conn.execute(sql)\n",
        "for row in cursor:\n",
        "  print(row)"
      ],
      "metadata": {
        "id": "KLqWJiwWry2N",
        "colab": {
          "base_uri": "https://localhost:8080/"
        },
        "outputId": "19350d32-0a92-4de1-801a-fef06736692b"
      },
      "execution_count": 17,
      "outputs": [
        {
          "output_type": "stream",
          "name": "stdout",
          "text": [
            "('Peter', 'Inglaterra', 35)\n",
            "('Marta', 'Brasil', 32)\n",
            "('Marta', 'Brasil', 35)\n"
          ]
        }
      ]
    },
    {
      "cell_type": "code",
      "source": [
        "# pesquisa por todos com nomes cuja terceira letra seja 't'\n",
        "sql = \"SELECT * FROM pessoas WHERE nome LIKE '__t%'\"\n",
        "\n",
        "cursor = conn.execute(sql)\n",
        "for row in cursor:\n",
        "  print(row)"
      ],
      "metadata": {
        "id": "pRKK7EAFyQwO",
        "colab": {
          "base_uri": "https://localhost:8080/"
        },
        "outputId": "f070c13d-60bb-4161-e320-167136b10978"
      },
      "execution_count": 18,
      "outputs": [
        {
          "output_type": "stream",
          "name": "stdout",
          "text": [
            "('Peter', 'Inglaterra', 35)\n"
          ]
        }
      ]
    },
    {
      "cell_type": "code",
      "source": [
        ""
      ],
      "metadata": {
        "id": "PvDqbVreJzpv"
      },
      "execution_count": null,
      "outputs": []
    },
    {
      "cell_type": "markdown",
      "source": [
        "**Ordenando os resultados**\n",
        "\n",
        "Podemos usar `ORDER BY` para ordernar uma pesquisa.\n",
        "\n",
        "**`select * FROM nome_da_tabela ORDER BY coluna`**\n",
        "\n",
        "Por padrão, os resultados são ordernados em ordem ascendente. Caso queira os resultados em ordem descendente, adicione `DESC` após o nome da coluna."
      ],
      "metadata": {
        "id": "O6p3Loo3upfv"
      }
    },
    {
      "cell_type": "code",
      "source": [
        "# ordena pela idade\n",
        "sql = \"SELECT * FROM pessoas WHERE nome LIKE '%t%' ORDER BY idade \"\n",
        "\n",
        "cursor = conn.execute(sql)\n",
        "for row in cursor:\n",
        "  print(row)"
      ],
      "metadata": {
        "id": "k3kLPGr_sPQH",
        "colab": {
          "base_uri": "https://localhost:8080/"
        },
        "outputId": "b5edf5ef-5620-4c34-9277-0698dd9e81ca"
      },
      "execution_count": 19,
      "outputs": [
        {
          "output_type": "stream",
          "name": "stdout",
          "text": [
            "('Marta', 'Brasil', 32)\n",
            "('Peter', 'Inglaterra', 35)\n",
            "('Marta', 'Brasil', 35)\n"
          ]
        }
      ]
    },
    {
      "cell_type": "code",
      "source": [
        "# ordena pela idade, descendente\n",
        "sql = \"SELECT * FROM pessoas WHERE nome LIKE '%t%' ORDER BY idade DESC\"\n",
        "\n",
        "cursor = conn.execute(sql)\n",
        "for row in cursor:\n",
        "  print(row)"
      ],
      "metadata": {
        "colab": {
          "base_uri": "https://localhost:8080/"
        },
        "id": "r4tSpV_LvofE",
        "outputId": "b9a3df57-a9e2-4031-cef3-609730819b52"
      },
      "execution_count": 20,
      "outputs": [
        {
          "output_type": "stream",
          "name": "stdout",
          "text": [
            "('Peter', 'Inglaterra', 35)\n",
            "('Marta', 'Brasil', 35)\n",
            "('Marta', 'Brasil', 32)\n"
          ]
        }
      ]
    },
    {
      "cell_type": "code",
      "source": [
        "# ordena pela idade, descendente; como segundo critério de ordenação usa o nome\n",
        "sql = \"SELECT * FROM pessoas WHERE nome LIKE '%t%' ORDER BY idade DESC, nome\"\n",
        "\n",
        "cursor = conn.execute(sql)\n",
        "for row in cursor:\n",
        "  print(row)"
      ],
      "metadata": {
        "colab": {
          "base_uri": "https://localhost:8080/"
        },
        "id": "2IESixVux__w",
        "outputId": "57b2b7da-9398-4a70-806e-f7b56d881cd9"
      },
      "execution_count": 21,
      "outputs": [
        {
          "output_type": "stream",
          "name": "stdout",
          "text": [
            "('Marta', 'Brasil', 35)\n",
            "('Peter', 'Inglaterra', 35)\n",
            "('Marta', 'Brasil', 32)\n"
          ]
        }
      ]
    },
    {
      "cell_type": "markdown",
      "source": [
        "# **Fazendo associações entre tabelas (JOIN)**\n",
        "\n",
        "Usando a palavra-chave `JOIN`, podemos associar dados entre colunas. \n",
        "\n",
        "**`FROM primeira_tabela JOIN segunda_tabela ON (condição_de_associação)`**\n",
        "\n",
        "Existem vários tipos de JOIN: Inner, Left, Right e Full.\n",
        "\n",
        "**[Inner] Join**:\n",
        "\n",
        "É o padrão. O resultado será as linhas em comum nas duas tabelas, conforme a associação especificada."
      ],
      "metadata": {
        "id": "3DgGJfkwzI62"
      }
    },
    {
      "cell_type": "markdown",
      "source": [
        "![inner.png](data:image/png;base64,iVBORw0KGgoAAAANSUhEUgAAAQUAAACxCAIAAABC2D8RAAAAAXNSR0IArs4c6QAAAARnQU1BAACxjwv8YQUAAAAJcEhZcwAAEnQAABJ0Ad5mH3gAAF43SURBVHhe7b1pdF3HdSZaZ7jzxcRB1kCCIDgPkuy2OxppKZ231vvT7YgTQEpJOs7k2Ek8SOIATs7q5HU66V5tibNsyYolW7YGWyIJAiDBeZLM2VT3W+utF4niaGf1s0iCpDAD79v1nbtxcAFSJEUA997V3yoc1KlT95zaVfurvfcZTXeOobOzM8hloCVdXV3h1Y6ODpT0rc9q2MpVzfRbk5Wx5FYtUXAVW5nBkjW1PpbMhEva29u1PpZsKoHVG4c2Hgh+b/cQbo/WYZ7NUGg1LLM2tbW1hbcyQ3C17660hHXCNbmJSy0HNI9MuDw3kXN80C5jF4d7kH0NoDCsKABXWVmrAcifP3++rq5u1apVixYtqqqqeuSRRx566KEvf/nLyPzu7/6uMcbJAPnHH3+cFRYuXLh06dKampq1a9du2bLl9OnT2Dn3D2gGgOrz6FyGj05kNRUI7+o6CMsbro8jYhkuQU0cRUuY4c/r6+s3btzY0NDwzDPPLLH4/d//fYj54IMP3nfffRCZiEQijz76KLqFy8WLF0N29MCmTZuOHj2KXQHcLZZsgEKPq7MAwV8h09raypLcR87xoV9oz2LUdTCQZzmAVS5PnToF9V2wYAHUeuzYsRxs13V1CXiexwzB8oATlhUoyaqDcpRAV8Ao8AoE++CDD3BEVREstWFYDWsnwLYpsCm8tV+gQphIyOs+scTUznJAd47yixcv1tbWLl++fPbs2aNGjVKR0f5oNKqCIMMlV7EkpKqFrvq+jwz2M2bMGLAIsj///PONjY1NTU1soR5dlZ4lbCqhzQ4X5iZymg/a3dqPKAmvAhiYrVu3YjKrrq6uqKjQsVQtx4jKCNs8MwDymBGRCSsHkVVNVQpAnluxxG5jsRjUbt26dbAe2s6sBqu69KsK/RaGgQoUGdAMQfp99NFHsACY9efNm1dZWcl2AmihajxFwDIsZpbgmtH6EDBcyIz2BjITJ04E8XB0lRqgRFlzFvNamMvIRT6gB/sqCruV/YutUMH169fPmjWLw6MDBoRHESoCxwCT+rJly1avXg3TcfbsWe4qPHJcasnx48fhYMAIrFmzBjPik08++dhjj3GfBA8XPuiECRPgYuEn2APR0tLCjLrpfaG60hf4SdavWBlL7PDcuXNoGzQSh1Z5AW1SPB7Hctq0aXPnzqWbBJuJ5m3fvh1LuEDcedYhAGyCim/evPmdd95BD0N8yF5eXq575jySNcvAcuIQhw8fDvbSG2rNriNvjiCn7QO6DwSwiiHDhm79zW9+A4d+xowZHAzMUhwejAqnLmgASII5+8iRI/gVf87fYqnTFZYAN4WBCuEMK2CJyiiBFsIbgVcNgtEW4aA8LvNYQlGwFcoKPvTrN2Nv3C3zzFwH2mZUPnPmDPYMGXksMEEPyuXkyZNBALg08Pv5E/6W4GrWQbHKEj2KLRZkVQZJ0PmcIEjC8BJDAMCtgq0+duyYHje889xHzvFBR0VVE/nm5maMxNSpU9HvCioB+DB//nyMAaLGrDHQscyy1OQGtuqxkFHd1V8pdKZXsG2IVUA86B+UQGhhVZNLaAa9KdCSR1FxgL6H6AvW529hDEEDhLncM5fMjB8/fubMmdiKSR2VWV9/SFB8lISPywo4Cgu1Po/LPmGJdhdXUc5NJ06cADfgpmIIGJwAHBS0DQ0DLTGDaH0sb0TwoUWO2gf2IPDee+899dRT7GuCegAVxDSM2TpcuS8wuro1PPBQkfAAM6Ml4WHjVpZgGd7EVSoQXIVVq1ZBOdA2UgKwSuuAxth09erVLFoC4b31Bbbih3BFuDcAe+Y+4cDATCnZAG0ngbxqtmy+riAEKmihcoA7CYP70eMCqAbx4ZGGmwrQdM+ZMwezRlA15zHgfGAX9+1EAJu4FUvVFZ3MoApwDNChYXNMPcBcyHHqO1pDjsuXLz/33HMgRthcAJg4UXj+/HmVVBvPblHBbVk3dEjjYwjOPUB8mCOEN6hAlQWyenWQoSPI1Q8++ABBNmYrtlmtJUpeeOGFixcvamv1JyzRVUCZHC4cHAyGfYB4FCysvsyjL7SDABT++te/fvrpp6EK4Q4FoAeHDh1CHdTn3nLzrDbFwRKBO6hLnYYUdCSAefPmffTRR+GaWLI3sGxqagITRo0axcrE2LFjwSUYQwhO2mhPamZoASmAsPoiLodlwCCq4ABY8f3vfx8yhqVmHsDPdUyHSq5B8pcgqvZXuNcAlfzjjz+GzWWMSBrA4GJGxHwDTx0Vwj/PET3oF1RZtBMZLPU8GDWDS9AbUQHrE5g71SagEzgdIGbgOat+5cXOs1QqR8AxYqtWr17Ns3McWfbA4sWLYUhtXQFoEBZQxRl8uQbJX1JpuaoZLUevVVRUUAkAZO677z64TNqz7Bqsah9pJqegAmbhzJkzYHt4sgRgQGArMF+uXbsWzGchO2HGjBkbN24MfpwRXHeOvPpdQ9sPOqOjGX1JiwazcOvWrbNnz6Z0nO8QgiMch+z6K+yBslBM5gcZg8QHAn3HVR1LAG4A4gRlAgDfgCfI0SPhn2u+b7/nGmgZkMlq84cffgh/iWIyLoINZNxJoBBRaUNDg/4w3AMA9qO9h03AkOhNFrIayYYBzGsLEfmQFZQUS0yCa9asYTXWAcLqMcgYDH+J4qmQqs1HjhyBi0kbyg5C7/DEeXiMtafCGewk3IO5gyztZCN1yQxshU6WlJ12AzZh8+bNrANgV2HVZwlXCV3NKh9M4NDho2vjsxCuduzYMYqvQ48pgOfKVDd4tkDPGQwaBsM+aEcAKvDChQt50toaT3fcuHHwjlDODsWSqtBX76/V47kDjiIlRWu1wcxgiU0IivScvTrWcJkQhbNOuNOwqm4Jd4KtzGBX4ZpDiHBLmOdq38me5XABeP4QwHSAqWHJkiVwn1gHGHwyAIPkL6ELmAEOHTo0ZcoU9AJnx1gstmDBAnYEe0pr9gUrENepNkDA8XoO2d/BUdbR2bNFW4sM8x1dnUePH5s+fSrMQZExZcbcZcw9xtxhTLExcouFMaCK/lAPyX1KeWdXzwEy6Kk/6LjOoXWAkGFeM5wsAMSNeloZwLS4cuVKlA+VRJ+JD5AsnKgJkCQQm6UWKj+cRZ0XwYeqqioElFl9lFPoEgW0knV1o32Y6wKZMF69RJQMKrTaapCoow114QC04cfY1NkutRcuWerGfcc1KbjOxjxizDcT5pmU+/Wy0qmWHi6mCMdUVI6VU2r4GX5tDx4cV46RaQztj8yjffrNVghanmOwqmFFsUvg4sWLixcvzgog9ZwsoDWzvMeBwG3jQzDqIVq3fNIsGzKtxwDTa0T4COHhIWBukM0WPSzKMViV6sMH/GX4ECijbThXW6GgyHUJGaxSCv7vX/3PSZUTI44bM2aEMbCPXy+JPTey+PXS5GsJ/4WSkgXx1BeNudMIVWA9oB1LFi6S47WL74QdcT/yr93uv7u7ubWFhUqJnjqSy0U+ABzl8BI4fPjw9OnTyQcAkSTCDN2KHgCQQYkWDgRug7+E1jHBGWAJmi5UtqVsfX19fTKZpKhwl5944olz585xhhsSN/EmQNnC2s8SOwGLulLnMoVBHtZAxk80EmIurVkSc6MJ45YYA+fgcWOW+dFX0kX1idQOJ7bLiTbGkj+Nxf7Bcf8qkZxgDKrBhoI8lXfd/a+nTtrdgQTdLTAOdv/oXjlId2drF3rP0tUeFnUkiz+m3INqMzJUgObmZi3BFMlQCkBQAW8CuhRYwoGkgeK28YH2QVYtuKG9VXR90aJFlBCAcQibBVpAUj9HiUHxbOJ/+y+j6zZZ6QMbIsVYQhbLh4tNF5588knM95j1ESrca8xfF5WtKR35i1Rpoxvbbcy7xvml8fYas9vz6mOJfy4u+etk4kvGjLXuU8oxUc+8e2B3V3dba7tYAUwzOu90dIEktiVd2CKGiCn4F6zkHKAeVHGOO0sCnbFnHfkgF/1qeNRXr17lVl0yMxC4nfE0lDuQkDrR1X35UhN8QUgFroMJEydOPHHiBPtCMXCyfXagZWgrkpXGOi82AwltYgFU1PJBSkQc2wmio2fPnJowAdO9mzCm3JqF5W7kx8l0bTy+xXH2urEDbvRdx91vzD5jQImdxtT5/uslJSsQVyTT0yyLxFI4xk4isk8eUoITHMQetK2jucMaENsAaUMAruVY71JDVAeQseotYAkqIHh45BHEVsEZl/Ly8vfff7+1tZW/DXRsYHDb+NCrlRCts6vp4qWpk+U8EjFz5sxgawZqEEAkdhDNRe5AOUBK2HzGICDbxY1clYQ6TG0d8lDR+IqxcXviaIwxf5gqWnXn3a9HYzsi3g4QwDEwDki7kHeFDMgINzyvzpgN6eRLJcULS0onGgMvM+F50Iu/XbIMR0AgIT2FY4h9QqYD/ywZbLLMZBuCpuQkoP0YfeUAEM4TCLKhNrxYmUgkEE6gsGfOHRjcNj6E+Y0BOnbkaPmo0RFPzisjYOC1BW4Ny6O/QiZcniNA45j4Dws6SKHJWJQPCkrCSB5hdFdnQ11jzI0jYBhpzP3GfCuegH6/E481Rtztrqg+9B424V3jgRL7PL/RmAORKApBlZ1Rp9Y1b8eiLxYXfTMWx8+xE3hcEROd+0Q1jinOEfyn9qC7xFmSBKq2d8N+2G7UJuUgsmY9tRXQgZaWFqoElAGZujrYy+CxVbhPmzdvZs2BU5XbzAc2dPOm2kQs7sLcZcTAVlYANM8luyMHydADNFMSWiiphwwBQ2RdZLDVsFi5elUynkoZB3qMgGFxLIHQeUvEhzu0B2TwxC/aAwIYR9wkN7INq350u/WXhCoRd4djtvku+PNyUeniZOrz9rxTiXGjJnL/hHvleHpomAdBp5yHJR+6JJbHJiZuzh1w0Dnc4UFnOSH6kdGQc+fO6d3jsVgMETY3DRBuhQ/aoF5KjBGSIenaUt8Q9SNoPtLYMRVHjx6lxueB3vcLq/lWrZjrIQNcX4iEdfgwUgG59u7FNUshueuYYcY8CDJE4m8kine4HoKEA5YGu8VTcpCQl1UxEd4eu4pNlieS9kb9emPqI5G3ikuWGPcvyu6A0wXXC9FERfnYSxfk8iWi6R6NR8fKOT1pxCftiChkkxiv/MelS5d4AZf4wQ9+kKVFSh6ufhbcNB9o7Oj6U8XRDmkf+r5LLEM8GgMTPMd98HceuHr5StZZIzY6n1iB9tp+tt46FS4gA4pbMCOjH7AFK23dT86scl0Xvg3IcJ8xi6Lx11IlDcY5aFyoOCjRwwcsbbJMcBA/KB/eM8571lDs9WS10Yu8mSxZ/7l7/iSRglKMsBFFOh47deoUmwbHSRoof7zigRHqbO2GOyVFhYHLly9XVVXBStBQ1NTUoJBadBvJANyifVCFlnagJTbVbtyUSiRpGZ6cN7+5uVkJoy5jPjHBApJBBjv1Wz5ICmIGuQQAYqCgq/vipatz588TyR0z3JhH5QpD5M14apsX3+PFYQF2OkgBDXa6NmHVMgE8IR/CJeDDezEXhfCjtkQTb0ZiPysuXer5/8ZSImaM65kzp+QJitY26WW0AkuQtq27vbm7vdWSVpqMZZ6Dun7hwoU5c+bovcBLlixRDkDNqGmfXbtuPX5A6BMcXvq9C5YhnUxBHxA2zKuqvnQheDIQS7ZVKlowny9AczPaRj4EZGhFREtts4o3q2qu8UzUlTuR/uBzpf99+Mg3U0U73fi7JrLVmG3G2eZ6O1zrI2Usg3WZHKi+8kHshnWcsLrP2gqJtl0XQTZiDPz8jVT86Uj8AWt/Yp5JRJ3LTRfRSBio1k5x3to6JHgAGSSshjtVEEZC9Qe6xJNOjLBJCd0KDAEfep0cQF/bsGFrwxY4SEjgA8hwpekyysMNBZQJeUeJDKBb6G4JVTOTsfxBF79d86zci2fJ8M2S1Pp06ufx4q1efLuJIFze6fk7PRcGgYpOAtjUQwYyBJlwCuq7wooDEbEYmz3zWqpsgR+dmoklKsfcLTy1TUN7qBBoW4uYLTYxv0FtwVIzcJashRCsXbvW1hLcluu5t2IfoOholqg7WtjVXVe7GQE0Y2i4SRc/viCBNXgSkiRsJbJ4kgewYvLUPvkgAthCaF1tQ73x5VQa5uyHjHmxuGh7NLnTxPY5sT2Oj3l9l+9ut5N9iAZMQQk20YMS7Q/xAZZhL0hieQJK7PdlV43R1I9SRX+Vjk4y4pjBcfrC5CnWbnW3tlgy2OsPRP51dX+g/jDPzIoVKxhIALW1tbdRzJvmAxqE9jHf0dZ+/OgxBtBwkyZPnNR08VKgKIjy+jNeKOy3PGcRiGqFEqXjORv8NYuZOPE/3pdZ2hMyPGLM6mGjNkWTe63P8y4iAdc0ws/x5BwrFN2eOPL2GjhOge9k+YCAQVaReoUTrtnhyM/3+c67no/K+5zIduNsQYSdKvppunShJ1YClED4Xl09nwYLvBC7YFsrl65sowsA1BkqHukxd+5ckAGsiMViW7duJSVUM28Ztxg/sH2XLzWNHVPB6wxTJk2+evkKR4LnmsJ6z4ZqyWdv96AhaKjIFWiXLPDX3v3rD8+UV4yB7CDDF4z5+0jx25HSnSZib0kS7ZdzRDGzHQ6PQz7AJnh7jIdYYpsnsbXVfuEDom3ygREF+QCLAS7t9l3Zj5yWjSAu3+d7IEmjG/9JuuybxSWV9nQTgviaRUvQqpYuOf8l/d9jJAoKYc3hrUBANBo9evQoxA+r3K3hmnzgrrEMHyNLj6uqqtAa13UrKirOnj1Ljmr98A/zGhKYytVfe2HakgLp4sWLYyvkraZl9jrDQs+8k04h8MVEDm1mQp6BQahQNF7iZlvI8v5KJPG3mXL5IRPoscM1b0e9H4y840/SRSNABwkvxXNg2zrFWNjhu21+RO6hq/vShYsPP/gQHXUsz506jQGi1qkHxdUbV8Xr2QfsNDyvq0liIe9aRaQPHDt2LHwzEjOFwYeODsgFEthbg+RxBiHFxSvNjzz2ZSghyAA//plY7M3hw+qtTVBtHqCEQAIM2eebrb7z83j6byPxL9n7wxFIRCLezh3b0FoQt6XTPl8qA1WgsNT/5MrVSRMmYiCQpk+eAocFW6ioqr1c3iCuyQfdi6h/hhXMYFlXV0cyYBm+XoiM5lk5r2HdDnjhbWIiIBaSrHc8MWe28ZwiY6aBDKn0D0uGv+lGdvneAXsFbUDTXkQjlhU7jL/dT76eLPmO5/9by0wMRjrmnT71QXDVEAOR9yNwTfCcDcbn/NlzsUgUJsJ3vcULF1HrQAbVQ330/EbwKfEDdkq26awPO/D+++/DRyJqamrQAlTDUhkJIKP5/IV4pHKlwfrkWNj1F15Y57kSxY4y5ulk4pWikk3JkkY/vsO4vDFpQBPIsF/ORCHCRjgRbYgkXkkXL4jFP2/DmIQxFWPugRmjse4U41agsGTgLUJ1tZsZxCKFX1qlhoKrN4Lr8YFarnksQbVPPvlk1KhR8JthHB5++OHw+6TClVk//wEp2to75MFXyAZGnDl3Nup6KfsGgP84cthPSofBUCI43uk4+5wIol7r4mcr8e1KCLXfNeaw6yIoR+C+y7iIrbfGkj9JFz/tx2Al4Di5vrN02QroSa8rRQWHwD7YhHzNosWwD+DDxIkTP/zwQ1W/m+2ET/GX+s7xs2fP5qnfsWPH8j2kfZHFonyGjRyEFRKiYrKdW12VNM5dxvwbY/7prpHvuN5B4+5D5OA527F04gPNh0PG4Ig4FszRPs+H4wSLUef7r5UN/3YiXW69JmjGmTPn0ObbcokqRwFb3Y7grp3EQGw9ZdJk0UtjHnvssaCOxU0p4af4S6rZ5NmhQ4dIBnhKcobLAnXoKREsJPKeD5AGEth7qtu6OtesXQ9tK7Yx9NJY/M2i9I5o1J5IFU3d72DOhtYOIB+QQIC9jrPHdfZ64KGcaxJK+O4G3/yD58BrgomIyxm/SjFnaHivASkcBBM/BUSU19V98oMPUwk5+QwsWrRINmYUMkstr4Pr2QfuRaOCS5cujRkzBgeDp7RkyZLru2X68/wGJAAf5H7uzvPnzvi+j/6uNOZrxcN+lCraHonAXYE6vufIA5/CBAeezADyYbdjdtnbmfQ8LCixzz5gtENu5Yh9I5WYYt/shElrRc1yXqQrVIiG2fghSPZWCfIB0Pn6pnA9+0CFVrVeunQpj1ReXn758mUtL5RQoZe8wdLGDPZfxx9XzYVxGGEfg1417I5fxJO8xmyvKohq8p6LzOWCAUnYOQIVHJcH4nGl0B56U8R/uaz068n4PcHzdP7Z0+I1ZQ2QDlxBglqKKXvKlCkUHPLeuMjX5AP3pV15+PDhaDSKCRIHa2hoYCGBOoXRxSosbTGEamvv5PvF1j63EpZhuPWUlkUSP4ul6/0YVFPJoEo54HzAURwJ32GIeHQU8qDbXG9TIvF3jkFgPdLe7TdmzFgKoqLx5GNhjFe/gBdTYT/tB4Tf5HKDuKF4Gkt9w+TcuXOxCo1BF2NZMD0blpfagzxWkE6eOesnk3HrKX0jnX61qGSLn2j0ImofoJpUSurlgKbMUeQ+KD45xPs77KVAZ6vr/iSV+HY8dp+NczB/wbMV8UJsL2xg0Orr6yE4dDUej588eRKFN37K9Xr+kvYg+hR7xzHAvKyveBAF09cqCIlhc91z5NkGF0757xqzdsSItxAh+FFxWuwkzRQwYeD5wAQyHLB84BVxpHdt2u/5dfHED4uL/yaVHG29JgQSHLK+p8ULFRDwiSeecO17zebNm4eSG9fPT/GXgI8++kgfSuJrMrCJncuevXHy5TiCUxZh1eno3LqhNuY4UCs45c8Y81Y8sSuR0utuct9RhgzUS5YPXMIh7BktMEFuGsfRd1gn7aAxR2STt91EGmPJH5SVfZ4mwpj77rsPsmDUOF4FzgcIZy9a87ZrpF+++54UXiv1xvXsA9QCfVdTU8NzrPPnz2chtypunHw5DhWkh+1d3Z+fMAWRQ9qYmXeWvTJ8ZKPjh2/aQ2ZI+GB9JLFLsFFyNdAVPvySm5wIWvjzZNFfpvwxvPvVGH56D+j77eBCg9VyXqGD1nqOO3XyFJ596j/1xjX5wEs5H3zwQToNZZDI4ejRo5xBuaT2FNiUA6GUFcDmTbVR44+w7+L+WlHkjUTxXhOHcdjvqlKGlZW+U7jk9iceEQSAWWBgTUJKq3zZuhclbuKdWPqFkWV/UZa+w47d9OnTw0woZBNhr9OBAE0XL02bMpUmYt2atb04EE698SnxAyIHO78EfhigXal6k7/+UqhDIA1ILh4FBRTpurrvnTTNNy5U6k9HFK0aUbw5mtpn/AOuvEQsTAbRwkx+oBMPtMMTPpASJOFuX+7d2Gfv9ms0/tZY0ZuJ2BJf3gMLl8kz5tiR4Hy8PCYEWCn5P9QPBYGMSJjOYB9c44wZXa6FvVIfBHyATvfVb0YOjEv4zWP1sPMYob6AMFZU3pQR3KeERDJs39gQ5/uOjHnWdX6RSu/0fNAAZIAKwl2BavIEKwoH4U7vcMJBNYVLgrwEFV6j5/2wNF19Z4lcsTbm/in3BsMX9ACGW1bRA/iHZLukEIDhC2btrm44SxHHxXSwta6eXhNcKW4N6vSGCc/u9JG0ZOHChSCD53lf+cpXwuWFAOtPQh4RSTQDgtu7Qm0XgQ1dXR1fnHp/yt7+MHt42Q+HDd/qys1C0PtdYIIb4UOhmKdBicHnww2mN1Lxv0j74HOpWAn3yJEjkK8dskJiedyvFx8KA/r4uKh7V3dDXT3IgDR5/AQZXEsJcQbsBwPa+NaFEMQ+gAbKFVoJrJ46dSqRSNBZOnHiBMu5zHNk+ot/SGIN0D+tXEMfwf3csqMBjif4MM6YbyRTPy0q2W5fxP2eXBWGyy73ZWA+Fr/FEyYgYZXmIksphzBtisWeHzHsq2WlI60bfe/90yEaCJCRXbqCSdCTy2NAAgxnoKiy0vWlz38BfIj7kdp3NqiM0HDWlJUQAn8JW8O+EFY1cqiqqlKScGteI3Ozi+0J/oN0VsC2rs7gLUbdrROmTzCuPGTz1eHDVw0fsSmR3OPKk81yK6uQAdqWzYcdfCdALvFhqxd5PVm8OJaAiUjY0PL/Ofn/8slXym4XkN0+QYT/0in5DRlPK4aoq6x01SOKsCbi3ilTRdr24H689s7g3bdh9PhLUHrqPZZnzpzhNQcsDx8+zApAAVCCfOiZIyGy3BMGn1I8B1ACunLo+EH0H7zOe4xZGEm8kSje6sMmmPc88YvsGwAkiiUfYBMsH8Rl3yah9oCfYrrxtNPxtpjoy8XD//COEcMwmsbM+L3HWrpb2vi8kFUYS4aW7i7rK+b98AqoxgJKZKMInntFhE0Zqck9NTMQ+yC+VEbRmWHkAD7Mnj0bq/hZoQQPMhfSPtieEk9JKAHNsHxAau/umDn7K1CdYmPm3XnHD0qGbYskdtkHQaH3sA/vOf5+R/QefBBrYONpkMS+IyO3+ADS7ncibyeLvx7xxtuvqzieOXn2gw7hgO0BAfyCTywltCS/0TNrY1jt0xGrV64CH1zjTJk0md+sutbMHvhLgNa4cOECv/UWj8ePHTsWNiDM5DOED1iKqPiTlPEcEEGLP9155Mgh33NAhiny3YbU2+mSbfac0oGItQPiDsmjP+QDSiSosPG0fYAzgq19lHIo0y5jNsfiL94x8s+KS+RahDHVVbOCMwfSCwA6pEVSsJrfULdfMpTRPi00vnIcnyk9evhIT4U+MNTy8PRfX18PMvi+P3PmTCUJK1yLVfkDaxBEAzLawC4TWD+qo23pksXwNaE6f14ybF3piHo/9h4iB9fwsvQ+V55N2+NH7Yn/gAzkg31YNLf4IIz1zGbXvJ5ILI3F+bKmhO/oLGBlR2/I6TX2QgGgR5mtgG0trVguWVwDMviut7RmCZnQrzIblurcj1V+FdfzvO9973ss1McOC4kPtq8kZSDloMSYMWN8444x5rvx4jejSYQENjwIEtSdfhH5ABqQDHSZBvr56ZtNiG22eWarbxoj/otFJQ9m3kzzqyNHRXJ0hoQQ8kpwuaJbCOPbH+wwHz96TOyD45SXl0NMoF9/R/wl8olRxJUrV2Ix9Jj8tLW1FZvCBgQVsMxn0F8K+ACRkDIitXV1tx49fgSCQ/77jVlfNKzRi1DvLRnk/jmou33bZA8fSAZWsHF2tlIOYSIftvtyN8dPY4k/SZdUWBMxZ9ZsOY8GKthXl6E7Wnv6oeBg+QC+T5owEYodiUTq6uq4pceSZCB8UC1HpqGhAb8BnnzySTAh/EA6VsmNvAZ0AMlmAmZQ+K7OFvDh2ZoFriNXr+aPvOPVZHpPz5No8qpJvn0VTLA3e4spsGah58pDjgXTtkk2wd/bkE4+HU9OsucJ0skUtYSdADLIxRfphWz9KCSsX78eXg90e9asWVjtSwYg8Jew5FU5OkuYI1euXMkaRAEwAbA6IIl59AcSV+WEY3f7PRWjovZD0X9elHqnOA2VgqIjWTJELB/kFjokfuTKelBSgSdepTyXrj9o2o2oOhFZNfIOuEzlroSVBw+829EGN0n40GKthBhPuE52sig8QIHPnDljp3o5UfTxxx+jsH/7oICzxCdCYVOQV7uh93FoSZ4CrWciwnmYjWPHjhn72vr7jPnHO0f8POLus2TI8MGzEYJVL3uWaY+lBPKsQ0rkFB/Q2vfkU13yGo76eOTVouKnk6l7ML7GzP4P/wHCyxwgorMvGFwVJh8AUIIf3YKVWLNmTVDaG3J+iVre3NwMZ8l1MXs4c+bM4ebCQ8CB4B/GnklWaxYvx1ww0pjvjCh5uaxok+/szag43CSbAiWzKYiesZWJrMg1PiD90r4uf4tjNiUS/ynijbOv8Uv7LkSG+jezN8RQBu+5lN4oONDBAQ2shZCHeRAw9/V6An+JoLME8EFsbuLJqXAgkd8gEyQF55qgFSJnZ3f5PRM9xx1rzFJjNkb9nbEIwlDquug9Vd+VSxAMG/jyenpNSNC5nCKDJjhL9vpJdLvjvlxU9AX7QpqYMZs2bETk8Al7owPBhPRGofIBgINz9epV3pUHExGU9ob4S2TJhQsX+AYN2Af8DGQIU4Xoy6e8g4hEDRA+QBxSoru+bkfERKEonzfm5dL0zqh8Gl3e/BWolPBBpv/MV3yQ7Nkk4UNmtZcW5kja77hIyPDc1xvp1B+XFd1h7wB/+OEHyYDARnaAHQXLB6ouJveHH34YGg4/SJ8ZDMOI8wh16OxavXIVo29Yib5MKAxAKgy4yIY/kVqWXXJSpbN69hyQYbQxf1qU/klRfKdvlam3luv0rwYBZOi9mnMJkQOZAFbsc93XY5FnilITrYlAGGHv7bNnlQJaFCwfAEbPy5cvdyC6569dvcZGTuIHqcIbakZne4c8b2qfk75WqFEAgKzoEukVjHowEXBDx71TJpfZSPrZdNFrCR98yOVZ/8bTXtgHz99n5BIEuPFOKvHfyobPsGdd3Zjz0ekPZDqwOmBpUbBkoH3Asra2ljduVM2ZK1L3RmAfujo67502HWQAzp2Tl7oVJMgH+EmyCASX8qamJt/1hlln6R9GjnwrGYNrtM86QvnOhz2OC0qAD5AF9m1TLPbiiDv+OJmCsMYxa1d+TywE+sFqhn1otjChFuDSpUuJWBx8wFLu9gsBdcQ+8B5A+Vqu41RWVhZAkHAdgAXWSNqc5QVw+OgRKMdwY/6dMWvvGLnR8gHKdCBzgjVPEwiwwxGzADK853oIh2pd96fFZQuKyxBCAE/OekJud+/qlocC7HxRwIBi87TQow8/Aj4gHT18RHlCBP7SkUOHpYY90yrOVO9KhQSVrAtzIfL2i2Or1qw2rjfSmG8VpV9KpTZF/F2enLPnR9HzN5EPfBM4S3b4kXdi6UXGG8NXM40f1918Ff2AnmjpyDwWUogIX3pbtmQptB0hxJpVPS+0pM5bf6mza/3adagBLF26FKWFbCKUD3SXxVXomv/kHxg3cqcxi+PRn6cS9Z68ZElPLuVvCuyDZ/a5HlZhJfY4foMX/0c3PtmeYkq7jnz4qENMJlwlTJ6FygcAlIBiY7hhFvgVxuq5VcE2ywcg8JeWL10GBxp82LhxY2H7SzLglgPWVZKEbpowEerhlxuzwpiGRBST6C77UOju3uqVl8mVSBpRxAHXf9eRT/fudKM/LCr9kg2pQYnzpz6ErUQngA8FfFcfRpyKLUsbHSCqHje2krexap0gnua3VeAvnTlzJvhNoQKSwSKKgOiXts6OtqtXrzqO5xh3nDE/vkO+f7XHj+515S13+2wUkdeJX4ew108kHEJgDVvxajL9h2UjR9ircsuXLZYrD11CBlCigO0DIUPf2TV96jRReGOuXLnCK86EYTDNiDsSiShXchB0AZXo6hEygyUb/ylkhrjB71ANHdF56NAh341AM37HmFeSEQTQu427141BjfYO/PdCByfxeiJE4xmz11PJPysuu8veuDG3aqa9U0M6Ed0RPuOiPYwuZa+ih8PaQ2j/c/VT+n/ooLrd2d4xv3oevzd35EjwuByAlou/dPjgIXLl8ccfD7bkKvreNhIeIR0JHZt+gC2ZboECdHS0rVu3DpFliTHzhw9/IxV5F/OoG5UnP10JqbMUK+8StB9L4YM9N0BK/DwR/5ui4grrL40dV97VCfsgL5vo6ZsMrtWT/I4EtlLJelQtt8mApWS6up/5ztNQeHhNGH3ojwoi9gHBtJxsNYYfzwVyViqCTYcM4XYif0MtB3cyY4eEqHru3LkwDncb89Wiol8kvIOiN+4eJypkyH9/CQSwlAjuO+TbDzbEYk9HfT4LEYn5wgexm92t9kVcWX1IXdGZCFtZQatxE1dzVnmoM0Hzurp/+OJLUHiEEIsXL2YFQuzD0pol3Mbb+HJTHrYKS81w+eyzz65duxZ5WgkVG8t+Qf9QiCAzopxXGTduAtQCk+XXk/FfxJxfBgFoFMsC8JeUD8grH2qjke+NHPaA/WQ1HINzZz9qab5se8f2kQX7MGwfNI9NiDOPWRw9ehQux/Hjx9H/2u0cnVxDT/PaO44dOQqdR6qqklNM3IRmCx9mz5wFXwp8gGyUpK+PmCNAu1UqmOyGhgbP81zXra2tZSHarxX6BzbahGriNXcjdkqWGjPNmP86etTbUd6s6u9CCOEUgr9kmRCcON4Nc2f5UB+JvDis5C+K0wipoRTr160Su4mRtz2HPgyrAbyGioqKMRZjx47Fsry8XM7N28/MYslnZiZOnPjwww9jSv2U/h86aMMwJ16+1ESfaMKECSjnJkgtfHhsxpexAZuv9T3pHAHnJzRd6Tpz5kw7LsJybGWFTyOzDahtz6D2/3fxgms8qMWDxjx/150bElFMoiCDffwtrFX5m3r4IJ8vsu/I2epFXksnn02n7FVqd0nNgs6Olo424QD7UIHe/u1vf4vpH4oOMkht+0rfRYsW/epXvzp48CCMwwsvvDBjxgxs4jvswIqsneQCVOPtCnJdybi8sjAWi0lJBga2Y9qUqTwd29TU1OtnuQR2MZZsIQC9x7zlWCDzm9/8Bltv4DmNzuDKtEyJ3UdPvA8+jDTm94z5L6nEhnR8l+9uE9WRtxfv9zKalK8J7ZeHNBBPYxWWAQl58OEX0eiKeBxREzR87pwnursCb4dL9C07nKvMP/TQQ6jNm6BhNFACiCmx2vLoo4/KzoyJRqPV1dXcmjvopdjIdnbx6xDA2bNnISBlFPtQPmo0NoAP4R7JQfQSqbt71argBnXwAUt+ghtANa3THySGxhL/2zu66uq3OMb9nOXD90eUbUzGtiPu9CJydrIQ/KVefGAsgXyjF6mNx5c7zj3oPdd/6MHfsf0adFpWhvYWvYqJn64Ruv3LX/4ySgBuwnLTpk0wHfSg4FOhJNfAdgKwAVD7ObNmI0wADhw4EJTDX0IlPjE0evRoLWUm1xDufSxnz55N44DGAzARWXX6BTbIVlJCzq294BgfbsNfpZP/XFa0KerulCd+gtv4eI4yr5OVBWQQPgSnmOyXed+OxZZFo+CDcZ1x48Zy0K/dbdJpagGgQ7AVLAxrC4aAFQA9r8+xyAWlQkvYGAI+NptaV1en5fJ8HFUKgQXyN+BvDBm0T5E5deoUep9uK8Bpad26dRAMhi8sdhawQZK4TDAR3SsWL0NACPvw7WT8xyWpOt+FxtCvoAJRq/I30SaQEqA679sFH96BfYjFxD545q577u7pmmsDfFALwEtVajqwPHr0KAcC6jRu3DgMkPwmA9bkcmiB1hJz585Fg8HtDRs26Cbz4YcfohQg41kKMJ9rgK6TsfzKI2w0WQ6psAoJsen6UxHv8rYhNexD14olSzGIdxrzdCL6s6JEvcdHKyUhUwB8yCThg9qHHeBDNLYiKnyAo5xMxqVf0G3XHfZHHnnEakqPfQDQ29QWfVQf4EAAGC/lAB30oUL46MzDwaYleOmll9BISIFyc/78ecowf/58rOcsE6jluuRZP+RXr17N9gOYnDZu3IjC60jBDTaEkKi6ZsFCdMpdCD9ikZ+nElsKlg89CaLtcJ3aWOK7fnQUOs0zEd9Fp2amimsC8QOnf3Q14gfokCoZuh3mmueXHnvsMRYqEziFDblqsQE6XT777LOcRvkVaQCb5EustIDgtFbVTE5Bfbna2lo0eOnSpezxyspKrAIYj3nz5pHrrNkP7BaYGfKhem4VOgVqscyPbIzHG607EZDB3vOjapTXicQmz5F2Ok6tH/uu40JwxzVx3xNriZ65rsbySXx29fjx4xcvXrxs2bIlS5bAj2KcjRlq7dq1SgMgnB9aUKXDlHjhhRfQZrT8n/7pn6SGheELKqETvHDNqmHjklNgw+bMmQMO8GpJa2srDB9fCwJB4LnaiteEvFJDgH/tnZ3tM2f+vnEM1OJvXa8uGpfHHjIKVDB8UDeJcRH5UOdG/rMfHY0uc0wyGkHPfqp9oL/E2RPAKpgAQz169OgwT/gIjaqQfud3yCdZNEDbAKKCumwzWA2eYBOW8qolFEEeeOSU4XqT69Ah3CqMQXV1NUrY4LNnz1IEK51IdD0RMA9Kn2Dw29s6Wv/gj56CQkAt/s7xtkSiu3vzgadl8jqRDMoH+15+4UOjH19dMmyMdJxJR6NQFumSawPqAkdIqluACdrJ2LR582ZYj2g0akdAqMJNWgcZ1cUhQVi3udRXFYefgZNzMiiChGofhrzp/YJNUlqPGjUKrhE4DOMAYFqiFFjOmDFDh6EfYBKUQJqvIev8/ZlfcX2n3Jj/y3iNvvABSgPt2ekWFB9EHEfIoHzY4ka/P/JO8iHheejf6/MBmDlzJvwI/ALg9QdqC7eeOnWK93HQd4L7zU1hdVKjMfgIqwTz/M4JAJcPq2ybQSnVSPmgrR8S8OgaKrDpLGQe8xBaO3bsWPQ+vCaEcfCRYDFQCEE4YHyqKQtBj4AEHcKHzu42uAhPzJ0JPsA+/L3rb40mwId9IT7wMcu8Ttfiw7ZIYlVxmdyA0cc+WBUIdACdFvSbPaeH7qW/BPvAQgV+AseDugRgdM6dOxcmwJDHEioUM+vXr2dT6S+hBEvD2BScxixrKw892Lhw92lzMQmhxxE/sKOxRCFqXr58mXfXABgwVIDM/JVmuEP5+rIthn34pKOt6g+eNK7ED0uN2WQvS+93jbxMwL5PAPTIUq+8S+QDEvJhfwn24b9GE0H84PvoJvJBu137XJfQEO1hGGGpZKE/kRdCZypAo/SSnLIiTI/Bh/KBWLlyJVvLy1aUwmzZsoWlPGeM8BTbKP9QIdx92tcshKJjiuLdrFniof2cnDAYer8AH1vpJY7NIpIGH7Dr7yxaYHzvHmNWxOMbEondkSjUZRs0plDsA1KYDxpP13tRhEzgQ3B+CZ2Jnsn0E/qWPc9O5hIeBPoW/Y9+5vWHsH6j/okTJ9j/HAjwAT/Uzh9aMijU9Vi4cCEaiabCULAErTVHjx5l66uqqnKk6WwGx4Bge1AC1yh8XwnKAdY/efIkRoISYqknlQmOLmqirlS392ugaOGyJZgg7zLm2WjktWh0m+vtM84OKJDvWuNQCOeXkMgHMIEJfKiLJni+1fNNzHP1fKvtokANCA4ECvWT5IBeZAB0pA4dOhRstif6zp49y27XMRpCWLF6BcZw/0jdX/ziF1hlC+X6NC+jkPH4ATcMIdAA9GCwEiInT4VhVLIEA9jvvH0DEmIOg4PLOtiklWXPQRb/Otu6uxYtX44Z7W5jvp1OvpJOIaTe67jypKj1l6A6Ya0qjAShdrjOpmh8hRfh9YdkIiYTBPwlywd2UBgcAr7+ndrywAMPoEQrc0QwpWqAMWvWLP4K5RydHAEag4ahVfPmzaO2HD9+nJsghdzsilLg8ccfp3hYMjMkQFvDR9fGqAAwaLop3NH4ITxCkgHVkGloaEA5f46azAS7xvB1IJ7ufm4Ngip/pDF/mYy/MqK0ISqnmMAEBg/6Gq/8T3KuTB2nHa63IRZfHrH38zmIfUdJv2CK6MOHq1evYslCvVsM6PuovYanQEVFBfQKheqc6JQ0VKAIpChX58+fDyVBa0+fPk2GoNw0NTVRhkmTJmE9R6jMxmnrYYhh3djO6upqUkLrUFSwnIRRPjz44IMwKf/6r/+q+wHkI9OoD/egXfjwdm29caIjjPk/jVldlNjoe+ImuaI69lPTeZ/oIPW9nw/B0hLfh30wrnlkhj1ZhF60XED/oG/ZvQAyZ86cgf+pZywQK48aNer555/n86KYhvQuMmx65JFHfvWrX/VVJO42WBk6aMO++MUv0l8CH9gwsFfub6WQkBZ56lZYgQYZbACgfYeu5xlV+KyYeHimFQOgFdBaFFZWVqImt6IagF9hiVXMVayMpXWTuZAjHT7+K8+Ngw+PGrN2ZGldMgnLAKXB8oAnbyvKd5eJfECGxoH2Qe5vTSYXuq6cX3LN7Nkz2ZPsUR199BaGA2E0NQTqjlFAD999990TJkxAhquI6Nj/cKgwAWXtIbyqgzskYGPIB7REb/PhqtQAF6AW+ul2FvFnQwXtQe1EPW13U6CEWGYZbhxBDiLvksD+O09++C+uiQxD+GTMmrs+95br7fa87fY1j/uNOZjnfEDjeU4JNKBlsPSQ54E2FKUXenKiGf5S1dyZcgN8Btp1zFy4cMG+OeAY/WwWhjN5AbZWlQrAXAnjEI/HRc6MyPJ83KwnZnqO67vewYMHUQqNHFpKsHEKnjO9WagIvX4uVx0QRcuT07Zj5OYNx7jDjfmiMf94x/Da4uJtxjS6Zm/UhRrxbH1Yw/IrkQ9Ykg+ZVXle9CfJ+Lei3l1CB7N2zfOYN9Fj7Hftf9UedmZzs/3WXMjtyRqpHIc2GxlYCZ4YgK1jIWSBvMKH+dXz0CkwEfX19dw2hGAXa6eHl7cA7q3n51jrkscFMc5tQo0W8GHsmMpiY6YY85145M2YvGZmly9PyUGffukE31DM36Ttp6dkS5x6P/bisNJ/b8wd8IJQsmeHdJKcXhKEJ9Gsnueq0uCWx2XwwaZiycz58+cR6sA+3H///ZQXQgHB+8jIh0WLFtGvUIEHHzw0lmw3cMshvu4BmZ4xllMo8iYBu9POjvbWuXOrU8bAl/x2WcnricQ+z2+0IYR8YCqkT3mawndhkRKQaFMs9o/Dyx4wBoFTxJGHHzA5ot/b2qXHdPQ1g96jYrAbRafyhwkEGkxxKEJdXZ2NHeQydMiXtu8T2PjOBvAB6cknn0TRLevf7YL2NTO31vUQnvJzyZ0g32nPu8KFahXnCYWdNUuWJew32P8gFf9JKrU3Etlu+bDPlWeD8jqJmySfjpdHqJXYyPw8EX+mrHicMaXGxNwo7QLIgP8ZCkiP9Uwi/eHWxmVooW1esGABz0PyBABAPZF4+vzZc7QPEydOZOkQAg3QNmA8KMAtdL3+RDPBbrGw8QP40Nopk+KGTRvhSJYY87AxLyfTOz13T8SB14S038vv+zXIh50OpAgowfRGKv5Hyfg9xiSNmTZlOjoEvYSuEJeptwKgHKMAoBxLlGiFWxiUoQXbj2YDPEEMf4nn7iEUxRH70NrcUpRKgxKIteV3Qwp2N5bMUIZbBoTEfigq0dXR3WFfv4T9Ytne2XH27Fnfvun688Z8v7R0i+Ps8oI3L+3oo2H5lTJ8EJcJNOC5JmReSyf/aMTIMmOixsyZU0U+dITu+Ga/BSu9gXLSI1jPE4QVCR7QpEmTyIcLFy5AFhVH+IA0eeIk2AfUOH36NDcMLXpp8K12fbgLenZo5QU6seNMdmxFOWznWGP+k31Kbpclg3wfyH65OX+T8sG6TMH93ih/pThdNeKOtDER49fW1kkfWKA3+k5A7H8u2Y06IuFhyguw5VeuXIGqA1OnTtVCAOJYPnR2zZk1O+LJYxyIM8I1ChAir12K/Laku3Pu3NnwF0cZs8iP/cyP7Iz67/ououq9eX5/K/gAbiMW2mXkW3ggwz6UR7wflpZ80b7s3jMIpm0XyEm3nrCy8ECVJtvDwbTd2IPg+0Dr1qwV65B5y12B80EoARchOL/Y0d66ZOlCWMcRxny7uORnw0fWe/JdqV/G4npmJn8TKLHXk5dK2duxxFnaLA8DmvEImfx43It1dXS2t9v33QepYKHWjDeGuq7b91PrYh/aWloRUtNfmjZtWrClUNHDh0y+o33L1s3Gc0ttSL162Ii6eGKf626HMvVRr7xLYRH2u2ZfPLoxLm+aqTTyfdF7J02RHhBLialTvh7GTipUtLW1gRVPPvkkVB3Bw7Fjx4INGQT+EpYV5WN4xe7jjz8uYPuAaFBmQTKBE2JX54WL/wuzQcqYLxjzXz5319uJBOzDe370gOurMuVp4ifwyAoIVe+bV5PpZ5LFdyF4cMzyRTXoB6iInR6YChOQUa8zlJeX+/YhbwTTLFEE8TS8x6o5wev71q9fX7h8wHi3d3bJ5wORutqpAFI4esyopDFjjPl6UfHP0kW7XBeuRb6fXwonuZzims3pxJqRd/xxaRmcQ0wBDbWbMBsKZKbg/wLHxYsXaRwQTKsHpQjiByzXrl7DKxR9g4wCAqRta+tolmEXqe1SClur582O2fsX/rBs+A+TyZ3wuY054Ob9/RpIiKT3OhDHAb3fTMSeSSTuM6YIOuEZhNEyL8BkWi2QzihQUPVhIvS1S7NmzeKmMHr8pbOnz6ASXCZYk2BjwQGGsKO7pa27RSTuGX+4Cy1rVn8vaq/XftGYfx5WtjPqyzmZ0GXdPE30lPYa337RwnmruOjPS4rvsSeXRo25s0P0pFPmhQ75sqjlRWFCTV91dTXn/fr6+r72sIcPSGAC6qF2jn8o6DMAorZ0yJtmoAgicodcoUau7crlC8mICxMxzpi/9yMb/ch2+ykdahUymkTJMg8SaEnOJsTQWO62X4hsdPyXi4qrRg4H7eE+1yxdCD60Y4pAB9iQaohv1BlgQPvhLPHrDrFY7NKlS/3wQV0obJszZw78Ktd1V9tX3LE2Kmiey3yGqL5coOTYB9KgUCKJ+XOroCWYO78TL3qtqGRL1NEPTPHe7/fsEkzY4QWPE+w3DtIe+ygmVoeEGyTntZJYOfH6vO0msjVd/F3HrbT3tHouosnfQnA4kPZ8q5jOTIcULJ5//nmQARo+e/bsoKg3goeDgI6ODn2DH8+65r/290Wg+hh6JAJOlJxd6ez6/poXPOPeZcxj9qzrhmjwwTXoHCkBPmAJJQMZsLTlcl8Q/BCsDpWtoN5fK4EPqLMffPDiL3mRb9vblhBJjxldIXJLb8id7632sZAC5gPvUtWXEtXV1aGkr4bL94EAWglkxo8fz7OufBhK73UNV8tzQITM+Va7gITiMXR1f3KxKeHHS+y3Rp+NxjYkoohEqXAZ5bP3cWQS8iBGiBtDw4frp72OhEDvGqchEv/BXXf96cjhZTLjmfWr14jLKKfY2iE+OKF9UqiAg0RnKRqN8j0JfRE8I6p49tln8QMYlAULFgRFlgxZmfxFIICognAbVgK+gpC+ox3BRPXsOSkEmsZ8vaz0rXRaLsnZWdYywdoBaxB4Yxy0bYcrKZf5gAQT8UvH+XnE/1YsOtHIZRaEiHYmaCcfWjrstIcSRpIFCr6qGKCz1PdOLUD4QCOAzVD3Y/aVg7AplZWVfFN5AXAgDBEGf/JVdrjOwoSAD2Ii2r+/dl3U3vt9vzEvFRXtisa22ft/LAdABs9+hxfuuKxC+7EJsURO2wdjDvreTmPeKEn9x7KSEfbMkry/UF5AZjuhCzOB7QF0R+HyAWr84IMPQrdhHPo9s0T0vFxAfaHp06dbFpnGxkYtR51++ZR/gKySZGrEf6qChBPtzSi5eqkp4rgINzGPLjPuO9HEViiTK9YgiJszlKDvlLEeuZvg8u02ZptnXiop+rx94ME3Zu3ata0tn8gUgFCqoy3gg5ABDGE3FRpOnz4dj2MqkLlAowDNKHrOLwHU+Oeee44xR5X9yDk3FQ7IB1EF4UNIPDnTgn/V1fONa0Ya881U8StFZfWRCLSKDhKSjZ69nQ5SzzklJnpTqogDlPoyUBuQlbgVZNgd8TYmE9+N+BXGIDRMRKKY3eylGIy9nG+GUtgusQWSK0DQWYKjOGfOHKxeS7HFPoS3gR4INRBSI4TA75ubm8OWgZYkv2EloDYgK2vBP2iFTA519VvAB7hMDxjz/Ig7N0XjqmGkBAMJea4gOOVKnggfwJOBpsTN8gFpazz6YjL1N6k04iKYvqkTpkDaNvuGmVZ7qi2YJGEcCpcPkyZN4j1LdJaoyWFjQMj5JfzjknoPIzJ37lxew4Nh1a0FAiuKVYXM0IvXAD0Q2RFDXb7ySXnlWFhWzKbfSKbeiqX2O94exAmO2edJbPqu3Ptgn7OxkTQ074ClBMiwwx1KPux35J6roFCeiZPMDmNq06maSPzf2rcHYFAb67ZCVsjOTsAy6Af8Y8pniKb3VldotV5IGGtfuqfze9gSEMH5JRAl7EsdP35cf9/U1ISSQqIEJIEeBHzAH8ggqaujTWaLtvbO1WvXIKqG9vyOMT8qHb7FkTeUbYd6eXI5Atpv1U78JVHNzHdGhpwPvLsEXJVzrJYP4PDOqP9KuuirqeJye8/StEnju1oDIwBdYD/I6WY5nWB7w27Ka1BXwyo9YcIEhgCc3wHU6Rs8AIF9UGg9vc3jhRde0Fd69bUv+QgIDAkznQE9sAmSZRTl448/Hl8xOmafIF3oem8lko2eJ8bBl4QZd5/c/WqvxFnVzNgHZ2j5QDJIiY1t0BI0e4Mf/XvXv9eeNINEdRvfFklBBSzte3csHxA72YfKe+lCXoIKHNbqzZs3U5PBCowsbQIqhOsogvNL3Kbqjj0eOXJEDISNxy9fvozCfn+fd4AMSOiSjDBWZCmSi9RcA1atkgv7iKp/z5h1w4bXRuPgwE5LiUbonCvnW+0ZJ9E/hhCWDwFDBi5dhw8kA1/GDF9ul+vWReOvpIufTZXcyaGsuKe7y16HpqSW/qBEwAcg0yn5jrBHNGXKFCu9ef7551ESVuN+4gf+w4a+26ZPn04rs2bNmsIggyLQfcgU3MqInguMg7wAvLv70uWmcRMq+Z4yRBE/S5c2GnmIdHfEbI/INbj9xkPiWdcgng7dxzFw6Vp8kE3IwE1y7ctyYCI87xfx+Ipo/IvWOBjP2VxfJ49DUWBSwopvTy1kj35eg+oKMiB6huiRSGT8+PEXL14Mb+1XpcVfUgvCJf0l0AOGBvsCJbCvCxcuhF9jlufA2ENGeAjCAQhv5UfqQGfgv93WzSiizEYR3y+7c3MkvgP2AboIPkgYDT7I9+agndTIvpo6EOn6fOCXXBDqwFLt9NwfxWJfKyoZba/BlVeO5fjL3XthVgglCooPGhggc//993NOp3HgpN8vE4ie862olGUiUDJt2jTsC1i3bh1K1AzlMaQrIGaLpBAf7Jl4fnQ04MMnV66OrxjjG/k69bOx9OtFpdsiDnTOWgMEDyBDTC5E2PcEi0YOPBmQrsM64YPjwjKAD7t8OQew0nV4DS6CyGHzJpHdig9JIWbQE0GJHXrJFw74bUTXdSsqKq5evdrXA+pbEsTT2MAMlqr0KOQewTBEEWpu8huBFsDWIQkfUGAp0Wmfm2uHv4RV3t9Ws2gx+nOYMY8b872S0k2xGKII+5YKECOyE8lecAAZQJLB4QMSKWFZId4a2SiERLJ82GHcxlj8rWi0xvPkjfaIpD0D8ssVB2sNSHsZZium7RALyec3VJ+xnDx5spVeHH7dhGW4ThaC+KFf8GfcKSL0mpoapQ2gVik/gb7o6Q6IhGT1RQoZSmBeOHv2rBfxEUWMNebPksmfpku3e9Edxt/l+tYhkReWkQwHrGrCcafKDnSCUYLeZ+6kkga8J+dbZdM+aaG7IV60wos+bM8aAyuWL4VIIQWQGEkGMviXf6AehufusJYjv2nTJl6AKy8vv3Tpkq316bgeHwDsV080xWIxfT8Hj40l0C/P8hEqiFIdIVPN0iXoVMSj9xnzXTf6VqxoezQJh0SuSFiDAC3ke414llNVdoCS9dZ6+AATQUK+C0o48k2jRmMa48UvFQ/7k6JSeHpwlhKJhIpWSOOl6BvZwjsaN24clBauTd+XLF0H1+QDeo0dh4OtWLGClJgxY4Z2KDK2Yg818x1hiSgjcPrMuQnjKxGPwkRAw9aNuGuD5++33yCF9lMXsbTK6si3SUO6e9sTDsRrf9Zhkwvkcre5mKbg6/FIda7zo3Tx08kU1AGWjXfvQRDerVxgCCseZjGYCw6cfuMLfn6/kcO18Cn2gbh8+TIiEt7RxM4NB9Y3frAcBzpX+xcZyIg1hNyrnl/NF4BDw75RUvxaOr0N2umKg4S0L/NmfHlG2QRnYAcokX68/IdVkGGbh+MihvHQpF2e2euZDenkIs97wBiEPZ4x06ZOpkQEBktlzGuo1lGcsEIePHgwHo/DMkQikdra2pvSz+vxATuiJUJm5cqV9MZAjAsXLvAY9CsKo38JyEXRgEAuLLq6q2fPitrpdqoxS1znnWQSugiNxKws55eCU67ymPKA8gGJLhktEtqAMGaPiew1kQO+Dy9ui+O8WlLy1dKSu2xr0/HYpQu9zoJQqMIYsrAUHDU7hfWcFOWtrCxn5lPx6fG0HvWhhx4CJWAl+I5XQFVHM/mLbBpk0A4vo7P7zIenx1aUY77FpPv1kSPXlQ2ri0ZBA5Bhu3gsAR8G2j7wtJJGKQghkOyVEBzX1DvmnaLSGtcfb0yxvTtj3arVGi6rXAVzHQkShRWPAkI5eXcGPKWTJ0/erGZ+Ch9gAXgY7BdmKBrFLCkndBG80zjweDd71BxElgiQ2gK57k57Ynb92nXGkfAUQerXikpeTSR2es7uqFACugiHnk48NXWgU8ZKCBPoPu0zzqZEcpnjP2pvM4FG3D/lXjlbJqeVBBAqS8a8RlgWK5+sHjlyhCoKrF+/HiXUUi5vBNfkQ9jEWL0QMEyBZ1ZeXn7u3DkW6tZ8hyVAtixYl+cp8a+9o2ruTHR2qTHTjfm7aPJ1z2uMmt3kg71RYhD4QE9Jzi/JdUCQAZQQejRE/RfT6T8rGVZuzylFo/HLl6/ylHKW6gS5/Ie66xw1iPboo4/yanR1dbUq8E2JfEPxdBg4JI4Hx+nhhx/GqjaFRw0fO5zPUwgZ5NqcvR7R2X3pf/12cuV4UOIOY75aMnL9yLs3+PJQBBwnOb2DOdtyY+ASyCAnlxz5InADzIKPyMHZ65r6qPnnkuR3UglE/EVyd4azZtVaabkVoVBBBaMGAjU1NWIX7BPSp06dytp6g7hpPpw5c2bixIk8MMwFOBo2Rjy8EjffKQFh2nkfR2uLzLWd3fWbGzD/lNinhb6WLvtxaWmtfcxgvyd30ckdEwOc9tmj7Iz6WxFIGDnoFs/8tDj+dMz5HXtOKWKc6eMmg8SFzQeoFkB9w5L37QEIHtatW5eleDfOipvmA8zQhg0beO4V4DsHUAgOsBG0UzfegtwGJAK32+z7B7pbO0XJ5syZ40vAKi+6WxBPvTl82LaIY68JmHe9mA0kspX4NiYQD4Zou+fvlc+1iKHYMKxkkWOeGvU5hA1yTsnz2682o7WiLoEUBY7Tp08nk3ASBU888QQLw9P0jeOm+UDANpESo0ePzvrknNA2Qwxm8hlof1t3p9z5B4ajg1vtreCVlZWIrTEZf8GYhb7/Rjxir4v5e01koM+3wlnaYcx248g1EMTQsdh/Ly76y8+NuNOeUEL6/to17a32DFJXt311RsECIwIF++1vfzt+/HjLBXmvJF80xumYy5tSwluxD1hevHhxwoQJpMSMGTP63h/CRhQCH+ybaSAIuha+U1t3Byhx8PjRWCKOQGK4MV+S1w4MezuR2O4nd5nogF9/MOZgNLbbuLucOI7446Jh3ygtHWPDBmPc+fPnd6KR9pZEcZUK10Bw+se46Md+wIqTJ0/q2WSSgep647biFu0DDnP+/HkELmgHUFVVxXI2AigI42D1SV7EIQ9FWMGQkzulQZGNG9+JxSKOIyc3Hzdm1XBQomi7kXfKZ2nw7U2ZKMXb4ideS5U940Yn24c0fOM+9vj/0dLR2dottyWikfKUb0F7TNDyNWvWyDxgUVtby3K9M4U0UJ28Edw0H6jlPAZfW0AroS9rCh/+ppqSm4AAHZ1yigkOueQgPjoAy67OF16QKxKIJe4x5o9KS18qSiO0tbfZ9dLg25gQOezy5AqgfNkknvpmNKYxdEVFpSWqxNBY2n6XhlohChMgAOZiqB/A53Ogb1RCgup3U9cfb9E+EODG+vXrLTkFS5cuVZuAZoVblr9o75AYOlAv8AGmQpbWaHR1LFq6xPFcUGK0MU+nk68UpzdH5QkhWAkkRNhMqs2aVMV1q6Z+qyGhJkq2eU5tzHsznVjuuXDVYBkQM1RWTGhqugLK0jIAHXyFPRteiNi8qZYvJwaqq6uheDr5MtN3eSO4xfgh7AutWrUKBAVTlRI8POuE8/qrG2/f0AMtvW5j51VVgw8llhJ/UVr2SlFiW8RpdNzdXmS/cfbZKwbwcKDK9nYjSbAhQhir7np7rF2VQtBJHkyNGETMex3sIbjMZ+8qdxr9xE+Ly74Z9b5oLYMc2itq/W0zLYEYMfHmxHyh1Rkm5x+gIUQ7nVULEQZidXU31NXH/UjUj0Dnpk2ZGrwSCfJC8M+GW48fsIR+U8X5VvBYDFNVzyvMVPuz0NzcHOTyAjIaNmX+Q3IkaJyMUGdX08cX/t2jX0ZsHTcO4tqaROTVZGRTLLYnkoASvyfvL+vReDBBHiSyfEAJysEH3qyKrUzkA9LeqHzzV6p5LsKGfa5pcJ0fJ4oW+TG+IsDDQROp/Y375LRXwAfrMck5gODFe7bheQPp095zJfs8gCXD8cNHhAyu3KU0feq0K02XoY0IFXrVvFXcCh9U0ZmhAHPnzoWVAB8ikYg+gaEVCOTpzDGfH2A32/Zq1q5Z2BFqvnR5SsW4uJEnS6cY8+108qfFpXVQdMd7NzP9w0ockGfZ5B5YSwa5ZMEPDsGMoAQk4V0YZMU+10WQcMCXE7i7jLfHi9d55scliW+monCTRhiTcBG5IYisUydJfDi+hVbODAsfkHqamg9QPVHQPkBtpLyr+/DBQ8loDEyIOO6UCRObLl5SCfH/swt7i/aBaq2nsdDWCxcuzJ49m5TAsqamBuXgQziaUVFv/PzX0CPUzcxqgUhh+YAg49zJU3HXj1uHfpIxy9Kp14pKNnneHvuE0LuO24cPwgTLB7lBVfiQIYMYBOsdSXK9vW5ku/Hqookfl6aficutU2Cd3LPmmMVLpJNhGTrbEeSQDOhYIQNalV98yKIBgUKUahR09PAR3/X4AvZpkyZfARngm3d0wj5A0+AsffZ46ab5IE20TefcH9b4ixcvghIYKd5wu3DhQhSyMpZstP31Z210LiAQpKu7tbkFQ4LMiaPHJo0dyxv+xtnnrV8ZMbw2GpP3+VnXn0rPEAJ6n/GUIrvlKl7gMlm7IYmBB5bwlLa5sdfSxX9dlJhm+SadC8qtWI5+BB+t3stZ4QwZGD+IauQRH6hO/YLO+caNGxEwRDzfNc6kCRMvX2oS2dgFGTX77LgVPmQtCcoDK/HUU0/Z8RLAibp8+TKqha1EYYCyd7ZnXmSEUKK949TJj6ZNmwJ95SsI/jyRXDN8+BvJ5JZYhK/uQ1SwzcYGIAY5YB+ZkKcXbIKt4Jv/gu+CIp5u8CMwNQticZCh2AbQxvG2bLGf5rBkuNL2SZuc8CITAjIgsV35AtUlZDQPUK9WrVoFP9xzXAbQJAM7H5MR3Y3rMOrGcSv+EpvLw5O7YQFQsnz5chk1e8ZpzqzZVy9fCbZl6t+Wpg8OIJimALpuZ6YsWZqamubMnpmwF4zvMuZeY55Np14sStRH4CnJO2nACrpG9I5QaAMMUCK414MVhDNRp8G4ryaLvpZKT7RuUhK7dZPv7XgXPGht5quieAGOPlLm8khPW/MPWbqE1SVLllCXYB8mT5wUxAzsf2Zun17dNB94yL4MzhID8QNlgHWDDLzHKVwnX8AOZwqQWRc3KQMUQB+12rw5c0V4x4OhACWeTid/UpTe6gslxEeixltKkA/2GegePjT6pjZqfpbwXh4+7FvxxARrcFKOmzCRf/2X83LJDUkC53ZYBpChE/wQMkgjghbkG/rqBmb9q1evzps3T7TIntCfPXPWlabLIiBShgxiJW4fbjGe7hfKTsjW0tLy4osvikrAxLsemN24ZavcXpaZU7UyEM7nGtj5TAH6FOkaRgY6al357tVr1oEPcG8QToASzyRSP0oV7fYiiKEzD0sgoiAZ5GrDTl8yYAtKwIefpuOLfDPvrhEjrZuUwrRyT2XLb6/KMWxvMWawbhItgy23TWJj7HqOdqyOePiUDJc60586daqiokJUyE6ssBIBZ7AIWYbbi9vJBzQ3aLFFc3NzfX19PBqDNEhw/pYsroHnF66j+awTVrkDdjtTgD5FzGIYbcJQd7SLne9ev359LBKFz1tiX0TwrXjqn4tLEGFvj8Z3ev5eeTm+vTrhyjvDGxFXOGZfPFHr+K+l00tjsS9ZJsDCIiC5d/wkaj4PSiYEAXSYDBk9kSsjknKuP6Ho1Hh0EFmBpWakhr0BqaGhQS8/I1NXV8dNAoiXF3xQQK2p2ZDw2JGjCIDgNZESkyZMPH/2XFtLK7qD/QKQFbqaU2C3X7/zs+tQFTG4ra1HD/4ykYxEPdHse+w3uJ6Ox19NpmuNs904B1wf1oA+EkzEVte8FY2+OPzuv04UT7E3z0qvuQYBCfdu+0m0PEQGmNxMzNBDBqTAesgvcg9ZQw890RIEYLNmzaJNAGAijh8/jq3KlgHVk9vGhyyKU06b60YABMtAK8G0Y9t2btRfab/Y4hyC1a0gXQvZFZCDHJ/IB0u7O9tOnf6XUeV3QeyY48BQIDL+diL58siRb6fSm+XTW94+L9rgOm8n4z8uLV7q+b9nT9emoQuucRPuqvUrbceABjwEaNBmP/0YMg52Q6ZCADpU4ZJcAAaaY40lNTs86IcOHRo/fjzP1wOTJ0+G14TyMAdUWwYCt9k+WGEFbDSgpq2udnMqkQQZeNZszpw5/MwKf0WBpX4Ow8rRK/UFxJBykbq9q7OlS26laG+6dGHFYnnvJRIi48/ZB4meiTqvFqXrvFi9m/hZUdl/GzHyj0uKJ9mtqIMuKh9f+cGpjyRWFh2QmV6sLgggJ1VBBhs2ZNrB/zYb5HpWcwz9TvAXLlxYunQpaUAgYKCG0NfAr8LMGSDcNj5Y5e+v/1GWocSpkx9NnjiJfAAqKytXrVqlvUOxcxnUsHDqBbveinlA/mPabuvobLZTuJ2mO7qOHzo2pqLSIMZ25LJacCq27I6Xh935TDTxiD0/C7Mgc6O99oz9QAFsr2KnmWcwhAMZGgRFApvNWIPem3IKDBQx6Kow0PKjR4/CL+IL74AxY8acOHEiTJuwbiDPHw4Ebn88HYYtteclkcVgWWLAd9IgG27ilClTYCXtDnISaHmm85kNpwD9FFHa9vbOtvCsdunqJwsXL/Jc+UAJKDHafmylqlTMwjBrFiKOGXX36PNnfy1fPcTvbI/Z3Xa2trdZbom9YOp1QHu4Xj6S/LxXjRwBOkR1/cMPP1y2bBlpQCxevPjKlSt6AbdHkSyLmBk43P54WoefmYAMYVZ0yY0o1XOrwAfe7wRWLFq0CL0QVp1cgW18OBtOAcJFVhs74CxJThK3A1ihu/M/jh8be8/ouJeI2aAZTEjY2QGQdx/ClrRZMlDl2W+Sha4zaOhFiQxk97nPB1VuOki8J5rR89ixYzdv3sytAGuGl8SAsuL28+EGAQnXrl2LLuClFnQHLKZ+qA7EoInUjuibAbLy4dUhATkfvk4ng2cbxcJgLLu6165clUqk4RpFmawLyZsgAymwgGJjmZEJ5dg7Egr4kTtuCelHT6Gg18pthu1sQbBuSzQD6NTGci4J5NetW1deXo5xp4+EzOzZs5ubm7N+NfgYMj4AEB6TxIIFC9AjfDMsMggqvve978FWoAKMJvuFQ65OJFf77TvktXygoQdCpiePORrNyUpWs8mW+s1106ZMZRAlp6HtE48QnJ0ALdmyZYsKSNEguO4/DC0cNO3BgbKOpSVYhp0cLENEDUrQ4Lq6Okx8nAGJGTNm6HdFKFG/wg4OhtI+aAbBE99xBoXguTZ0GUJtvraDNbVD5TcZ9O043e1Ag4ONw2l4FxxavJ12qn5rc4uQgamzq6Gu/r7p90IRmHzXGzumYuXKlatXr4a8kBrEIDcmT54c9hwI7F8VDlBJNTMIwLH6Hi48CsizglbjLIbuwjR37733UkzyYfz48SA/t6I+a+reUNJ3fAcaQ8kH7QJksETXPPzww+wpqkUikYCLqd+tY+9QEbEMdxb2EF4dtH7kgXQpgtAOZFwdEqOudvP0qdOUCUjjxlauWbVa7sbJAKwYPRoBdgD0w6hRo+BA8mFI/SS+9Fqm3wg56MCj36NoYSC7LdHOZ+bjjz9esmSJvLEqA4h29913QzSliq0uYF53G940OBhKf0kB+dkFWGJefOyxx8gHAiHXrFmzNm3apJXDGe19QEdlEBA+LoDjcvD0fCIqnDp1ClaOMRIB6wdTsH79epJc53t9hvb555+H6kBjAJrKaDT61FNPwaPAIfSgFFP9yUGQOkvefqF1mPn1r3+NqIARMxCJRLBEb4AekFd1XaVQkiODPQw+GYAh5kNYZubRNegODL8+gApAJ6Ac8K2XLVt2+PBhVEMdVYKwNiB/IyN3W8AxCx+OLTl58uTatWunTp2KlkOtKQKA6f+5555jHf0VVlmCpfYA5s4xY8bgJ9oDEB8/h7XEzllH9zA4esNGMqN5QpvN8g8++ACEh6nXllOKSZMmYXaAuUA1Nh5L/iQMtYTYbd+tA40h5gP7RTtI5WdPQfXBCn01pwKOBBQO0w9/iKVm+PPBQdibBz766CMEA3z/OUAmUBvAZLhDrEZJAZ0OAS2kCFzW19fr3c66xA5hLdetW3fkyBH7i57fDg7CnaxUROb48eMLFy6cMGECTxlpa7HEIGIraxLcif48y9BhyU2DLBowlHyg8JA5LDbyLGceS7gWGH70qXUigrMx1DZMoijHbARd5E8I3cPAgQMGnT569CjI+eCDD2LstXlsIZq3aNGirI+yMsO8Fb2X7EHOAnVwlDNnzsDBwK4oMsGjgGZwSLZu3aoh1sCBDQ4Dsl+9erWurm7x4sV8gypaRQKgqQCah5afPn1ahcWSed2bUoIIH6XvEQcBORE/3CCg9HAY4IBSM7CkWnCJcigHpmFMReh67c2+3coSTs/M61BxlSVaqCXMwGrB7ldXV+vnvsPNABAAQEVOnDiB3+qvbgH6WxoiyAXy8/s3qnb2gIKJEyeic8BM8JO/UlXTjMqiGYU2lZuwJJBnR2ljYJfQyWgJ1J2HVvFpGcaNGwdDgWbwuFx+ln4YTOQNH3RUkHn//fcx8YQddI4EAEXh8CBsfeihh1asWAHdra2tbWpqCrs3OjzMYMmxB9R2A5cvX0Z839DQgJ3MmTMHBAgfDnnqJQH/HlqibxHVw30WVcjSaciOJsGPgsuk6sg4VVvCFqKp8LWgl6jMhwdUUi7ZnwD2rPISelCoPsSBcQa90eEPPPAAfVcKjn5mVwNYhaeEahga/jbc2wAP8Vm6YnCQT/ZBoeMHLYe3gFGnpoaHB0tqhgJKjMn1kUcemTFjBpcgDEwKRrqmpgZ+P4Dy+++/P/iBhe4EGWoelwAVAvvBz6F2bBIRVj5Ale/Gwd/2VVaucnn+/HkoK0QIh1hsnnaFAuJDBGjtly3mz5+PfkPLYegQ+8LfgyDshMceeyz4TW/QNGEnzADgJH6O6J/+KsQkDdh4NFIFz30mEPnEByiH9i8z6GVOZuj6s2fPwo7DIECneXIGIwdw5DQDaJ60gerYir3Ig0KdcQFVLzjKX/nKV0Ah2A0+FI42UDu1SQAyOsveMrgfAHvWfJgPKEQGQGbLli0QHzM0dB2qD7DBAETjKiVlIYBVymWl7yU+V7E1vB8AqyAAgiLw/5NPPmFL2AxpXAgo1B6wbcyukJvIGz5oh16rZ6kx4a0YM/g50F26OhxRarnO8WFwEzUA9WE9QC3Ml5xH4XXwLpK+4KHDgAazJXz3utL4pkA9U4mwEyW/lmDJo6vyMXPp0iU0GOEEGAIRYAEw/UO/1XISInYIqMBy9A8sCXpgwYIFkB0WAJ3JyAT7Dx+LjcGytVWeeWSeGULz4cKcRZ75S+HO1VHR9/0zw3LWzBoDGUm79eOPP4ajhTkeSrNp06bGxkbkz5w5g03hQ4RXoXZwBvBzLQm7yCikdt6a6veFcqxfsmFJQQjkWQ1LZsJbFdo2WDboNwSH+Nu2bWMnnDhx4jo/Z3m4c64jKbYS+JXuqt8m5RryL35AF6Ojg5XMCKGvw4UKrYwKOn5ZQ85hYzVu4hIl4d1qfc0QWkH3jwzq6D71AtPNAnvgsbAfbZLdEmSyNFLnBQWq9ZWa+wR0t4Tms44VPgp+m/UTQlezMgpbK7swB5FPfOi3Q7NUJJzR+qoBYVXQaoSuMoPfaokqBH7OvO4nS9v4k/CeWfMWVOE6wnJTuALKwwcF0LBwSd/m6c+Ryfpt3+4iwqtZP8EqSzRDMK/HCm/KTeSfffjf+N8YKHR3//8yWFQQSVoyOAAAAABJRU5ErkJggg==)"
      ],
      "metadata": {
        "id": "J03HbQprscGD"
      }
    },
    {
      "cell_type": "markdown",
      "source": [
        "**Left [Outer] Join**:\n",
        "\n",
        "Nas pesquisas com `LEFT OUTER JOIN`, o resultado será todos os registros que estejam na tabela antes (à esquerda) do JOIN, mesmo que não existam registros correspondentes na tabela à direita do JOIN."
      ],
      "metadata": {
        "id": "mB828LQystR5"
      }
    },
    {
      "cell_type": "markdown",
      "source": [
        "![left.png](data:image/png;base64,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)"
      ],
      "metadata": {
        "id": "KdIQop7dswCW"
      }
    },
    {
      "cell_type": "markdown",
      "source": [
        "**Right [Outer] Join**:\n",
        "\n",
        "O oposto do Left.\n",
        "\n",
        "![right.png](data:image/png;base64,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)"
      ],
      "metadata": {
        "id": "937b2C2sswdQ"
      }
    },
    {
      "cell_type": "markdown",
      "source": [
        "**Full [Outer] Join / Full Join / Outer Join**:\n",
        "\n",
        "O Full Outer Join, gera como resultado todos os registros das duas tabelas."
      ],
      "metadata": {
        "id": "-1qAhrWys-Ps"
      }
    },
    {
      "cell_type": "code",
      "source": [
        "# mostra todos os valores da tabela pets\n",
        "sql = \"SELECT * FROM pets\"\n",
        "cursor = conn.execute(sql)\n",
        "for row in cursor:\n",
        "  print(row)"
      ],
      "metadata": {
        "colab": {
          "base_uri": "https://localhost:8080/"
        },
        "id": "RL8xynCUsl3Y",
        "outputId": "c3fdb153-ee65-45b7-9044-afbd5bf56e44"
      },
      "execution_count": 22,
      "outputs": [
        {
          "output_type": "stream",
          "name": "stdout",
          "text": [
            "('Scooby', 'Emilia', 'Cachorro', 'Macho')\n",
            "('Dorothy', 'Emilia', 'Cachorro', 'Fêmea')\n",
            "('Petite', 'Rodrigo', 'Gato', 'Fêmea')\n",
            "('Niko', 'Rodrigo', 'Gato', 'Macho')\n",
            "('Cissa', 'Peter', 'Gato', 'Fêmea')\n",
            "('Paco', 'Peter', 'Cachorro', 'Macho')\n",
            "('Mingau', 'Manoel', 'Gato', 'Macho')\n"
          ]
        }
      ]
    },
    {
      "cell_type": "code",
      "source": [
        "# INNER JOIN (sem condição ON)\n",
        "sql = \"SELECT * FROM pets INNER JOIN pessoas\"\n",
        "cursor = conn.execute(sql)\n",
        "column_names = [d[0] for d in cursor.description]\n",
        "print(column_names)\n",
        "for row in cursor:\n",
        "  print(row)"
      ],
      "metadata": {
        "id": "P85qP8L87jjY",
        "colab": {
          "base_uri": "https://localhost:8080/"
        },
        "outputId": "235ff212-622d-4cba-efdd-2a134f2a7f03"
      },
      "execution_count": 23,
      "outputs": [
        {
          "output_type": "stream",
          "name": "stdout",
          "text": [
            "['nome', 'dono', 'especie', 'sexo', 'nome', 'nacionalidade', 'idade']\n",
            "('Scooby', 'Emilia', 'Cachorro', 'Macho', 'Emilia', 'Espanha', 56)\n",
            "('Scooby', 'Emilia', 'Cachorro', 'Macho', 'Rodrigo', 'Brasil', 37)\n",
            "('Scooby', 'Emilia', 'Cachorro', 'Macho', 'Peter', 'Inglaterra', 35)\n",
            "('Scooby', 'Emilia', 'Cachorro', 'Macho', 'Marta', 'Brasil', 32)\n",
            "('Scooby', 'Emilia', 'Cachorro', 'Macho', 'Marta', 'Brasil', 35)\n",
            "('Dorothy', 'Emilia', 'Cachorro', 'Fêmea', 'Emilia', 'Espanha', 56)\n",
            "('Dorothy', 'Emilia', 'Cachorro', 'Fêmea', 'Rodrigo', 'Brasil', 37)\n",
            "('Dorothy', 'Emilia', 'Cachorro', 'Fêmea', 'Peter', 'Inglaterra', 35)\n",
            "('Dorothy', 'Emilia', 'Cachorro', 'Fêmea', 'Marta', 'Brasil', 32)\n",
            "('Dorothy', 'Emilia', 'Cachorro', 'Fêmea', 'Marta', 'Brasil', 35)\n",
            "('Petite', 'Rodrigo', 'Gato', 'Fêmea', 'Emilia', 'Espanha', 56)\n",
            "('Petite', 'Rodrigo', 'Gato', 'Fêmea', 'Rodrigo', 'Brasil', 37)\n",
            "('Petite', 'Rodrigo', 'Gato', 'Fêmea', 'Peter', 'Inglaterra', 35)\n",
            "('Petite', 'Rodrigo', 'Gato', 'Fêmea', 'Marta', 'Brasil', 32)\n",
            "('Petite', 'Rodrigo', 'Gato', 'Fêmea', 'Marta', 'Brasil', 35)\n",
            "('Niko', 'Rodrigo', 'Gato', 'Macho', 'Emilia', 'Espanha', 56)\n",
            "('Niko', 'Rodrigo', 'Gato', 'Macho', 'Rodrigo', 'Brasil', 37)\n",
            "('Niko', 'Rodrigo', 'Gato', 'Macho', 'Peter', 'Inglaterra', 35)\n",
            "('Niko', 'Rodrigo', 'Gato', 'Macho', 'Marta', 'Brasil', 32)\n",
            "('Niko', 'Rodrigo', 'Gato', 'Macho', 'Marta', 'Brasil', 35)\n",
            "('Cissa', 'Peter', 'Gato', 'Fêmea', 'Emilia', 'Espanha', 56)\n",
            "('Cissa', 'Peter', 'Gato', 'Fêmea', 'Rodrigo', 'Brasil', 37)\n",
            "('Cissa', 'Peter', 'Gato', 'Fêmea', 'Peter', 'Inglaterra', 35)\n",
            "('Cissa', 'Peter', 'Gato', 'Fêmea', 'Marta', 'Brasil', 32)\n",
            "('Cissa', 'Peter', 'Gato', 'Fêmea', 'Marta', 'Brasil', 35)\n",
            "('Paco', 'Peter', 'Cachorro', 'Macho', 'Emilia', 'Espanha', 56)\n",
            "('Paco', 'Peter', 'Cachorro', 'Macho', 'Rodrigo', 'Brasil', 37)\n",
            "('Paco', 'Peter', 'Cachorro', 'Macho', 'Peter', 'Inglaterra', 35)\n",
            "('Paco', 'Peter', 'Cachorro', 'Macho', 'Marta', 'Brasil', 32)\n",
            "('Paco', 'Peter', 'Cachorro', 'Macho', 'Marta', 'Brasil', 35)\n",
            "('Mingau', 'Manoel', 'Gato', 'Macho', 'Emilia', 'Espanha', 56)\n",
            "('Mingau', 'Manoel', 'Gato', 'Macho', 'Rodrigo', 'Brasil', 37)\n",
            "('Mingau', 'Manoel', 'Gato', 'Macho', 'Peter', 'Inglaterra', 35)\n",
            "('Mingau', 'Manoel', 'Gato', 'Macho', 'Marta', 'Brasil', 32)\n",
            "('Mingau', 'Manoel', 'Gato', 'Macho', 'Marta', 'Brasil', 35)\n"
          ]
        }
      ]
    },
    {
      "cell_type": "code",
      "source": [
        "# INNER JOIN\n",
        "sql = \"SELECT * FROM pets INNER JOIN pessoas ON pets.dono = pessoas.nome\"\n",
        "cursor = conn.execute(sql)\n",
        "column_names = [d[0] for d in cursor.description]\n",
        "print(column_names)\n",
        "for row in cursor:\n",
        "  print(row)"
      ],
      "metadata": {
        "colab": {
          "base_uri": "https://localhost:8080/"
        },
        "id": "PLuefzSTvdf-",
        "outputId": "197301fe-be81-45fb-ae91-328b2e79006d"
      },
      "execution_count": 24,
      "outputs": [
        {
          "output_type": "stream",
          "name": "stdout",
          "text": [
            "['nome', 'dono', 'especie', 'sexo', 'nome', 'nacionalidade', 'idade']\n",
            "('Scooby', 'Emilia', 'Cachorro', 'Macho', 'Emilia', 'Espanha', 56)\n",
            "('Dorothy', 'Emilia', 'Cachorro', 'Fêmea', 'Emilia', 'Espanha', 56)\n",
            "('Petite', 'Rodrigo', 'Gato', 'Fêmea', 'Rodrigo', 'Brasil', 37)\n",
            "('Niko', 'Rodrigo', 'Gato', 'Macho', 'Rodrigo', 'Brasil', 37)\n",
            "('Cissa', 'Peter', 'Gato', 'Fêmea', 'Peter', 'Inglaterra', 35)\n",
            "('Paco', 'Peter', 'Cachorro', 'Macho', 'Peter', 'Inglaterra', 35)\n"
          ]
        }
      ]
    },
    {
      "cell_type": "code",
      "source": [
        "# organizando melhor os resultados\n",
        "sql = '''SELECT p.nome, dono, especie, sexo\n",
        "         FROM pets AS p\n",
        "         INNER JOIN pessoas \n",
        "         ON p.dono = pessoas.nome'''\n",
        "cursor = conn.execute(sql)\n",
        "column_names = [d[0] for d in cursor.description]\n",
        "print(column_names)\n",
        "for row in cursor:\n",
        "  print(row)"
      ],
      "metadata": {
        "colab": {
          "base_uri": "https://localhost:8080/"
        },
        "id": "1pCNEZEVwEle",
        "outputId": "ac322e62-2fa7-49b9-af51-e379e874833c"
      },
      "execution_count": 25,
      "outputs": [
        {
          "output_type": "stream",
          "name": "stdout",
          "text": [
            "['nome', 'dono', 'especie', 'sexo']\n",
            "('Scooby', 'Emilia', 'Cachorro', 'Macho')\n",
            "('Dorothy', 'Emilia', 'Cachorro', 'Fêmea')\n",
            "('Petite', 'Rodrigo', 'Gato', 'Fêmea')\n",
            "('Niko', 'Rodrigo', 'Gato', 'Macho')\n",
            "('Cissa', 'Peter', 'Gato', 'Fêmea')\n",
            "('Paco', 'Peter', 'Cachorro', 'Macho')\n"
          ]
        }
      ]
    },
    {
      "cell_type": "code",
      "source": [
        "# LEFT OUTER JOIN\n",
        "sql = '''SELECT p.nome as nome_do_pet, dono, pessoas.nome as nome_da_pessoa, especie, sexo\n",
        "         FROM pets AS p\n",
        "         LEFT OUTER JOIN pessoas \n",
        "         ON p.dono = pessoas.nome'''\n",
        "cursor = conn.execute(sql)\n",
        "column_names = [d[0] for d in cursor.description]\n",
        "print(column_names)\n",
        "for row in cursor:\n",
        "  print(row)"
      ],
      "metadata": {
        "colab": {
          "base_uri": "https://localhost:8080/"
        },
        "id": "CyWNS0Qd_zbO",
        "outputId": "f8ca368a-41fa-4bcc-88a1-ab24ab1cf399"
      },
      "execution_count": 26,
      "outputs": [
        {
          "output_type": "stream",
          "name": "stdout",
          "text": [
            "['nome_do_pet', 'dono', 'nome_da_pessoa', 'especie', 'sexo']\n",
            "('Scooby', 'Emilia', 'Emilia', 'Cachorro', 'Macho')\n",
            "('Dorothy', 'Emilia', 'Emilia', 'Cachorro', 'Fêmea')\n",
            "('Petite', 'Rodrigo', 'Rodrigo', 'Gato', 'Fêmea')\n",
            "('Niko', 'Rodrigo', 'Rodrigo', 'Gato', 'Macho')\n",
            "('Cissa', 'Peter', 'Peter', 'Gato', 'Fêmea')\n",
            "('Paco', 'Peter', 'Peter', 'Cachorro', 'Macho')\n",
            "('Mingau', 'Manoel', None, 'Gato', 'Macho')\n"
          ]
        }
      ]
    },
    {
      "cell_type": "code",
      "source": [
        "# RIGHT OUTER JOIN\n",
        "sql = '''SELECT p.nome as nome_do_pet, dono, pessoas.nome as nome_da_pessoa, especie, sexo\n",
        "         FROM pets AS p\n",
        "         RIGHT OUTER JOIN pessoas \n",
        "         ON p.dono = pessoas.nome'''\n",
        "\n",
        "# SQLite3 não suporta RIGHT JOIN ou FULL OUTER JOIN\n",
        "# vamos simular um right join, mudando a ordem das tabelas\n",
        "sql = '''SELECT p.nome as nome_do_pet, dono, pessoas.nome as nome_da_pessoa, especie, sexo\n",
        "         FROM pessoas\n",
        "         LEFT OUTER JOIN pets as p \n",
        "         ON p.dono = pessoas.nome'''\n",
        "cursor = conn.execute(sql)\n",
        "column_names = [d[0] for d in cursor.description]\n",
        "print(column_names)\n",
        "for row in cursor:\n",
        "  print(row)\n"
      ],
      "metadata": {
        "colab": {
          "base_uri": "https://localhost:8080/"
        },
        "id": "gqpuZ0rVAzV0",
        "outputId": "c0e48b4a-786c-494c-c335-64500191f28e"
      },
      "execution_count": 29,
      "outputs": [
        {
          "output_type": "stream",
          "name": "stdout",
          "text": [
            "['nome_do_pet', 'dono', 'nome_da_pessoa', 'especie', 'sexo']\n",
            "('Dorothy', 'Emilia', 'Emilia', 'Cachorro', 'Fêmea')\n",
            "('Scooby', 'Emilia', 'Emilia', 'Cachorro', 'Macho')\n",
            "('Niko', 'Rodrigo', 'Rodrigo', 'Gato', 'Macho')\n",
            "('Petite', 'Rodrigo', 'Rodrigo', 'Gato', 'Fêmea')\n",
            "('Cissa', 'Peter', 'Peter', 'Gato', 'Fêmea')\n",
            "('Paco', 'Peter', 'Peter', 'Cachorro', 'Macho')\n",
            "(None, None, 'Marta', None, None)\n",
            "(None, None, 'Marta', None, None)\n"
          ]
        }
      ]
    },
    {
      "cell_type": "markdown",
      "source": [
        "**Agrupando os resultados**\n",
        "\n",
        "Podemos agrupar os dados com valores iguais usando a expressão `GROUP BY`'\n",
        "\n",
        "**`select COUNT(colunas) FROM tabela GROUP BY outra_coluna`**"
      ],
      "metadata": {
        "id": "3YYEdBo_Le1X"
      }
    },
    {
      "cell_type": "code",
      "source": [
        "# agrupa por 'dono' e conta quantas vezes cada um aparece na tabela pets \n",
        "sql = '''SELECT COUNT(*) as n, dono\n",
        "         FROM pets\n",
        "         GROUP BY dono order by n desc\n",
        "      '''\n",
        "cursor = conn.execute(sql)\n",
        "column_names = [d[0] for d in cursor.description]\n",
        "print(column_names)\n",
        "for row in cursor:\n",
        "  print(row)"
      ],
      "metadata": {
        "colab": {
          "base_uri": "https://localhost:8080/"
        },
        "id": "tDo-UYKMI0Dj",
        "outputId": "3c7f89cc-ad7a-444e-bcba-4419412a39eb"
      },
      "execution_count": 42,
      "outputs": [
        {
          "output_type": "stream",
          "name": "stdout",
          "text": [
            "['n', 'dono']\n",
            "(2, 'Emilia')\n",
            "(2, 'Peter')\n",
            "(2, 'Rodrigo')\n",
            "(1, 'Manoel')\n"
          ]
        }
      ]
    },
    {
      "cell_type": "code",
      "source": [
        "# INNER JOIN com GROUP BY\n",
        "sql = '''SELECT COUNT(*) as n, especie\n",
        "         FROM pets\n",
        "         INNER JOIN pessoas \n",
        "         ON pets.dono = pessoas.nome\n",
        "         GROUP BY especie'''\n",
        "cursor = conn.execute(sql)\n",
        "column_names = [d[0] for d in cursor.description]\n",
        "print(column_names)\n",
        "for row in cursor:\n",
        "  print(row)"
      ],
      "metadata": {
        "colab": {
          "base_uri": "https://localhost:8080/"
        },
        "id": "oFwGvFTQOuVP",
        "outputId": "492eaae4-dbe6-493a-8842-c37592ef80d8"
      },
      "execution_count": 48,
      "outputs": [
        {
          "output_type": "stream",
          "name": "stdout",
          "text": [
            "['n', 'especie']\n",
            "(3, 'Cachorro')\n",
            "(3, 'Gato')\n"
          ]
        }
      ]
    },
    {
      "cell_type": "code",
      "source": [
        "# idade maxima\n",
        "sql = '''SELECT MAX(idade) as idade_maxima\n",
        "         FROM pessoas\n",
        "      '''\n",
        "cursor = conn.execute(sql)\n",
        "column_names = [d[0] for d in cursor.description]\n",
        "print(column_names)\n",
        "for row in cursor:\n",
        "  print(row)"
      ],
      "metadata": {
        "colab": {
          "base_uri": "https://localhost:8080/"
        },
        "id": "j-7f3Y99-te1",
        "outputId": "361e8f3b-ecd6-4944-d3d0-339fd11bab88"
      },
      "execution_count": 51,
      "outputs": [
        {
          "output_type": "stream",
          "name": "stdout",
          "text": [
            "['idade_maxima']\n",
            "(56,)\n"
          ]
        }
      ]
    },
    {
      "cell_type": "code",
      "source": [
        "# idade média\n",
        "sql = '''SELECT AVG(idade) as media\n",
        "         FROM pessoas\n",
        "      '''\n",
        "cursor = conn.execute(sql)\n",
        "column_names = [d[0] for d in cursor.description]\n",
        "print(column_names)\n",
        "for row in cursor:\n",
        "  print(row)"
      ],
      "metadata": {
        "colab": {
          "base_uri": "https://localhost:8080/"
        },
        "id": "lQaNOvVHRW0n",
        "outputId": "274a7e42-3f99-414c-a3da-a4dcf58f4cb3"
      },
      "execution_count": 55,
      "outputs": [
        {
          "output_type": "stream",
          "name": "stdout",
          "text": [
            "['media']\n",
            "(39.0,)\n"
          ]
        }
      ]
    },
    {
      "cell_type": "code",
      "source": [
        "# WHERE não pode ser usado para valores agregados (COUNT, por exemplo)\n",
        "# nesses casos, devemos usar uma expressão 'HAVING', após o GROUP BY \n",
        "sql = '''SELECT COUNT(*) as n, dono\n",
        "         FROM pets where especie = 'Cachorro'\n",
        "         GROUP BY dono\n",
        "         HAVING n >= 2\n",
        "         '''\n",
        "cursor = conn.execute(sql)\n",
        "column_names = [d[0] for d in cursor.description]\n",
        "print(column_names)\n",
        "for row in cursor:\n",
        "  print(row)"
      ],
      "metadata": {
        "colab": {
          "base_uri": "https://localhost:8080/"
        },
        "id": "Gy2PLopOU5g9",
        "outputId": "b248e7a1-2983-4fd1-a0b1-f715b4051b4e"
      },
      "execution_count": 87,
      "outputs": [
        {
          "output_type": "stream",
          "name": "stdout",
          "text": [
            "['n', 'dono']\n",
            "(2, 'Emilia')\n"
          ]
        }
      ]
    },
    {
      "cell_type": "markdown",
      "source": [
        "Referências:\n",
        "\n",
        "https://sqlbolt.com/\n",
        "\n",
        "https://www.w3schools.com/sql/default.asp\n",
        "\n",
        "https://devmedia.com.br/sql-join-entenda-como-funciona-o-retorno-dos-dados/31006\n"
      ],
      "metadata": {
        "id": "6k1v9WD8H3TG"
      }
    },
    {
      "cell_type": "code",
      "source": [
        ""
      ],
      "metadata": {
        "id": "X8vYOC5e5rU_"
      },
      "execution_count": null,
      "outputs": []
    },
    {
      "cell_type": "markdown",
      "source": [
        "# Sandbox\n",
        "\n",
        "Use esse link https://codehs.com/sandbox/id/sql-O2QmK4 para executar algumas das expressões usadas na aula e crias as suas próprias.\n"
      ],
      "metadata": {
        "id": "cLSrwhgU6q34"
      }
    }
  ]
}